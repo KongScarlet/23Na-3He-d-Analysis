{
 "cells": [
  {
   "cell_type": "markdown",
   "id": "175b0d72",
   "metadata": {},
   "source": [
    "# 23Na(3He,d) Analysis --Kaixin, updated on 03/01/2022"
   ]
  },
  {
   "cell_type": "markdown",
   "id": "228d2254",
   "metadata": {},
   "source": [
    "## Import packages"
   ]
  },
  {
   "cell_type": "code",
   "execution_count": 50,
   "id": "fee59a8b",
   "metadata": {},
   "outputs": [],
   "source": [
    "import pandas as pd\n",
    "import matplotlib.pyplot as plt\n",
    "import numpy as np\n",
    "from scipy import stats,interpolate\n",
    "import os\n",
    "from KaixinSpecTools import *\n",
    "\n",
    "class Angles():\n",
    "    def __init__(self, theta, sigma):\n",
    "        self.theta = np.asarray(theta, dtype='float64')\n",
    "        self.sigma = np.asarray(sigma, dtype='float64')\n",
    "class LineObject(Angles):\n",
    "    def __init__(self, theta, sigma):\n",
    "        Angles.__init__(self, theta, sigma)\n"
   ]
  },
  {
   "cell_type": "markdown",
   "id": "4a6811c4",
   "metadata": {},
   "source": [
    "## Set file path"
   ]
  },
  {
   "cell_type": "code",
   "execution_count": 51,
   "id": "8d20e655",
   "metadata": {},
   "outputs": [],
   "source": [
    "level='10821'\n",
    "# method='twol'\n",
    "method='zero_range' # method for fresco, need to make new input file for new methods\n",
    "#corresponds to file names, options: ''='zero_range','finite_range'\n",
    "\n",
    "path_fresco='/home/kaixin/Documents/23NaHe3d_Analysis' # directory to run fresco and generate fort.201, fort.202 files\n",
    "path_specdata=path_fresco+'/SpecData' # directory where the datafiles are stored\n",
    "path_fresco_input=path_fresco+'/FrescoInputFiles' # directory for fresco input files\n",
    "path_fresco_data=path_fresco+'/FrescoInputData' # directory for yield data used for fitting optical model parameters in fresco input. Not using now."
   ]
  },
  {
   "cell_type": "markdown",
   "id": "477fa5cf",
   "metadata": {},
   "source": [
    "## Define useful constants and functions"
   ]
  },
  {
   "cell_type": "code",
   "execution_count": 52,
   "id": "29a32e3f",
   "metadata": {},
   "outputs": [],
   "source": [
    "Ep=21\n",
    "Ex=float(level)/1000 # in MeV#\n",
    "Qval=6.1992\n",
    "m_3He=3.01602932008\n",
    "m_23Na=22.98976928197\n",
    "m_d=2.01410177812\n",
    "m_24Mg=23.985041697\n",
    "# From the AME 2012 atomic mass evaluation ----Need to change to nuclear mass. check AME 2020\n",
    "\n",
    "def angle_lab_to_CM(theta_lab,gamma):\n",
    "    rad=theta_lab*np.pi/180\n",
    "    theta_CM=np.arccos(-gamma*np.sin(rad)**2+np.cos(rad)*np.sqrt(1-gamma**2*np.sin(rad)**2))\n",
    "    theta_CM=theta_CM*180/np.pi\n",
    "    return theta_CM\n",
    "def layout(l1,l2):\n",
    "    for i in range(0,len(l1)):\n",
    "        print(l1[i],'\\t',l2[i])\n",
    "def weighted_average(l1,l2):\n",
    "    return sum(l1*l2) / sum(l2)\n",
    "def makefigure(title,xlabel,ylabel):\n",
    "    plt.figure(figsize=(9.5, 6.5))\n",
    "    plt.rcParams['font.size'] = '16'\n",
    "    plt.title(title)\n",
    "    plt.xlabel(xlabel, fontsize=20.0)\n",
    "    plt.ylabel(ylabel, fontsize=20.0)\n",
    "def read_cross(filename):\n",
    "    cross = pd.read_csv(filename, sep='\\s+', skiprows=10, header=None)\n",
    "    theta = cross[cross.columns[0]].tolist()[:-1]\n",
    "    sigma = cross[cross.columns[1]].tolist()[:-1]\n",
    "    theta=[float(x) for x in theta]\n",
    "    sigma=[float(x) for x in sigma]\n",
    "    return [theta, sigma]\n",
    "def filerun(filepath):\n",
    "    command = 'fresco' + '<' + filepath + '> /dev/null'\n",
    "    os.system(command)\n",
    "    print(command)"
   ]
  },
  {
   "cell_type": "markdown",
   "id": "00e9113f",
   "metadata": {},
   "source": [
    "## Import data for tranfer reaction and silicon detector"
   ]
  },
  {
   "cell_type": "markdown",
   "id": "e417126b",
   "metadata": {},
   "source": [
    "### Transfer reaction data"
   ]
  },
  {
   "cell_type": "code",
   "execution_count": 53,
   "id": "c10478c3",
   "metadata": {},
   "outputs": [
    {
     "data": {
      "text/html": [
       "<style type=\"text/css\">\n",
       "</style>\n",
       "<table id=\"T_4cf01\">\n",
       "  <thead>\n",
       "    <tr>\n",
       "      <th class=\"blank level0\" >&nbsp;</th>\n",
       "      <th id=\"T_4cf01_level0_col0\" class=\"col_heading level0 col0\" >Energy/keV</th>\n",
       "      <th id=\"T_4cf01_level0_col1\" class=\"col_heading level0 col1\" >Angle_LAB</th>\n",
       "      <th id=\"T_4cf01_level0_col2\" class=\"col_heading level0 col2\" >Angle_CM</th>\n",
       "      <th id=\"T_4cf01_level0_col3\" class=\"col_heading level0 col3\" >Peak type</th>\n",
       "      <th id=\"T_4cf01_level0_col4\" class=\"col_heading level0 col4\" >Centroid</th>\n",
       "      <th id=\"T_4cf01_level0_col5\" class=\"col_heading level0 col5\" >+/-</th>\n",
       "      <th id=\"T_4cf01_level0_col6\" class=\"col_heading level0 col6\" >Area</th>\n",
       "      <th id=\"T_4cf01_level0_col7\" class=\"col_heading level0 col7\" >+/-.1</th>\n",
       "      <th id=\"T_4cf01_level0_col8\" class=\"col_heading level0 col8\" >BCI_Summed</th>\n",
       "      <th id=\"T_4cf01_level0_col9\" class=\"col_heading level0 col9\" >(BCI*LTR)_Summed</th>\n",
       "    </tr>\n",
       "  </thead>\n",
       "  <tbody>\n",
       "    <tr>\n",
       "      <th id=\"T_4cf01_level0_row0\" class=\"row_heading level0 row0\" >0</th>\n",
       "      <td id=\"T_4cf01_row0_col0\" class=\"data row0 col0\" >10821</td>\n",
       "      <td id=\"T_4cf01_row0_col1\" class=\"data row0 col1\" >5</td>\n",
       "      <td id=\"T_4cf01_row0_col2\" class=\"data row0 col2\" >0</td>\n",
       "      <td id=\"T_4cf01_row0_col3\" class=\"data row0 col3\" >sG</td>\n",
       "      <td id=\"T_4cf01_row0_col4\" class=\"data row0 col4\" >1742.820000</td>\n",
       "      <td id=\"T_4cf01_row0_col5\" class=\"data row0 col5\" >0.629990</td>\n",
       "      <td id=\"T_4cf01_row0_col6\" class=\"data row0 col6\" >231.897000</td>\n",
       "      <td id=\"T_4cf01_row0_col7\" class=\"data row0 col7\" >19.633100</td>\n",
       "      <td id=\"T_4cf01_row0_col8\" class=\"data row0 col8\" >12502753</td>\n",
       "      <td id=\"T_4cf01_row0_col9\" class=\"data row0 col9\" >12263041.840000</td>\n",
       "    </tr>\n",
       "    <tr>\n",
       "      <th id=\"T_4cf01_level0_row1\" class=\"row_heading level0 row1\" >1</th>\n",
       "      <td id=\"T_4cf01_row1_col0\" class=\"data row1 col0\" >10821</td>\n",
       "      <td id=\"T_4cf01_row1_col1\" class=\"data row1 col1\" >7</td>\n",
       "      <td id=\"T_4cf01_row1_col2\" class=\"data row1 col2\" >0</td>\n",
       "      <td id=\"T_4cf01_row1_col3\" class=\"data row1 col3\" >sG</td>\n",
       "      <td id=\"T_4cf01_row1_col4\" class=\"data row1 col4\" >1736.940000</td>\n",
       "      <td id=\"T_4cf01_row1_col5\" class=\"data row1 col5\" >0.463446</td>\n",
       "      <td id=\"T_4cf01_row1_col6\" class=\"data row1 col6\" >399.044000</td>\n",
       "      <td id=\"T_4cf01_row1_col7\" class=\"data row1 col7\" >26.576200</td>\n",
       "      <td id=\"T_4cf01_row1_col8\" class=\"data row1 col8\" >23508100</td>\n",
       "      <td id=\"T_4cf01_row1_col9\" class=\"data row1 col9\" >23125236.150000</td>\n",
       "    </tr>\n",
       "    <tr>\n",
       "      <th id=\"T_4cf01_level0_row2\" class=\"row_heading level0 row2\" >2</th>\n",
       "      <td id=\"T_4cf01_row2_col0\" class=\"data row2 col0\" >10821</td>\n",
       "      <td id=\"T_4cf01_row2_col1\" class=\"data row2 col1\" >9</td>\n",
       "      <td id=\"T_4cf01_row2_col2\" class=\"data row2 col2\" >0</td>\n",
       "      <td id=\"T_4cf01_row2_col3\" class=\"data row2 col3\" >sG</td>\n",
       "      <td id=\"T_4cf01_row2_col4\" class=\"data row2 col4\" >1727.350000</td>\n",
       "      <td id=\"T_4cf01_row2_col5\" class=\"data row2 col5\" >0.793103</td>\n",
       "      <td id=\"T_4cf01_row2_col6\" class=\"data row2 col6\" >288.450000</td>\n",
       "      <td id=\"T_4cf01_row2_col7\" class=\"data row2 col7\" >28.568800</td>\n",
       "      <td id=\"T_4cf01_row2_col8\" class=\"data row2 col8\" >19628546</td>\n",
       "      <td id=\"T_4cf01_row2_col9\" class=\"data row2 col9\" >19277219.690000</td>\n",
       "    </tr>\n",
       "    <tr>\n",
       "      <th id=\"T_4cf01_level0_row3\" class=\"row_heading level0 row3\" >3</th>\n",
       "      <td id=\"T_4cf01_row3_col0\" class=\"data row3 col0\" >10821</td>\n",
       "      <td id=\"T_4cf01_row3_col1\" class=\"data row3 col1\" >11</td>\n",
       "      <td id=\"T_4cf01_row3_col2\" class=\"data row3 col2\" >0</td>\n",
       "      <td id=\"T_4cf01_row3_col3\" class=\"data row3 col3\" >sG</td>\n",
       "      <td id=\"T_4cf01_row3_col4\" class=\"data row3 col4\" >1712.710000</td>\n",
       "      <td id=\"T_4cf01_row3_col5\" class=\"data row3 col5\" >0.466250</td>\n",
       "      <td id=\"T_4cf01_row3_col6\" class=\"data row3 col6\" >339.418000</td>\n",
       "      <td id=\"T_4cf01_row3_col7\" class=\"data row3 col7\" >30.107200</td>\n",
       "      <td id=\"T_4cf01_row3_col8\" class=\"data row3 col8\" >21290537</td>\n",
       "      <td id=\"T_4cf01_row3_col9\" class=\"data row3 col9\" >20891891.220000</td>\n",
       "    </tr>\n",
       "    <tr>\n",
       "      <th id=\"T_4cf01_level0_row4\" class=\"row_heading level0 row4\" >4</th>\n",
       "      <td id=\"T_4cf01_row4_col0\" class=\"data row4 col0\" >10821</td>\n",
       "      <td id=\"T_4cf01_row4_col1\" class=\"data row4 col1\" >13</td>\n",
       "      <td id=\"T_4cf01_row4_col2\" class=\"data row4 col2\" >0</td>\n",
       "      <td id=\"T_4cf01_row4_col3\" class=\"data row4 col3\" >sG</td>\n",
       "      <td id=\"T_4cf01_row4_col4\" class=\"data row4 col4\" >1700.310000</td>\n",
       "      <td id=\"T_4cf01_row4_col5\" class=\"data row4 col5\" >1.855700</td>\n",
       "      <td id=\"T_4cf01_row4_col6\" class=\"data row4 col6\" >437.589000</td>\n",
       "      <td id=\"T_4cf01_row4_col7\" class=\"data row4 col7\" >99.443100</td>\n",
       "      <td id=\"T_4cf01_row4_col8\" class=\"data row4 col8\" >20114597</td>\n",
       "      <td id=\"T_4cf01_row4_col9\" class=\"data row4 col9\" >19718959.760000</td>\n",
       "    </tr>\n",
       "    <tr>\n",
       "      <th id=\"T_4cf01_level0_row5\" class=\"row_heading level0 row5\" >5</th>\n",
       "      <td id=\"T_4cf01_row5_col0\" class=\"data row5 col0\" >10821</td>\n",
       "      <td id=\"T_4cf01_row5_col1\" class=\"data row5 col1\" >15</td>\n",
       "      <td id=\"T_4cf01_row5_col2\" class=\"data row5 col2\" >0</td>\n",
       "      <td id=\"T_4cf01_row5_col3\" class=\"data row5 col3\" >sG</td>\n",
       "      <td id=\"T_4cf01_row5_col4\" class=\"data row5 col4\" >1679.570000</td>\n",
       "      <td id=\"T_4cf01_row5_col5\" class=\"data row5 col5\" >0.659871</td>\n",
       "      <td id=\"T_4cf01_row5_col6\" class=\"data row5 col6\" >436.647000</td>\n",
       "      <td id=\"T_4cf01_row5_col7\" class=\"data row5 col7\" >46.314300</td>\n",
       "      <td id=\"T_4cf01_row5_col8\" class=\"data row5 col8\" >33991230</td>\n",
       "      <td id=\"T_4cf01_row5_col9\" class=\"data row5 col9\" >33219017.200000</td>\n",
       "    </tr>\n",
       "    <tr>\n",
       "      <th id=\"T_4cf01_level0_row6\" class=\"row_heading level0 row6\" >6</th>\n",
       "      <td id=\"T_4cf01_row6_col0\" class=\"data row6 col0\" >10821</td>\n",
       "      <td id=\"T_4cf01_row6_col1\" class=\"data row6 col1\" >17</td>\n",
       "      <td id=\"T_4cf01_row6_col2\" class=\"data row6 col2\" >0</td>\n",
       "      <td id=\"T_4cf01_row6_col3\" class=\"data row6 col3\" >sG</td>\n",
       "      <td id=\"T_4cf01_row6_col4\" class=\"data row6 col4\" >1824.740000</td>\n",
       "      <td id=\"T_4cf01_row6_col5\" class=\"data row6 col5\" >0.498446</td>\n",
       "      <td id=\"T_4cf01_row6_col6\" class=\"data row6 col6\" >383.604000</td>\n",
       "      <td id=\"T_4cf01_row6_col7\" class=\"data row6 col7\" >26.724000</td>\n",
       "      <td id=\"T_4cf01_row6_col8\" class=\"data row6 col8\" >30171610</td>\n",
       "      <td id=\"T_4cf01_row6_col9\" class=\"data row6 col9\" >29630961.540000</td>\n",
       "    </tr>\n",
       "    <tr>\n",
       "      <th id=\"T_4cf01_level0_row7\" class=\"row_heading level0 row7\" >7</th>\n",
       "      <td id=\"T_4cf01_row7_col0\" class=\"data row7 col0\" >10821</td>\n",
       "      <td id=\"T_4cf01_row7_col1\" class=\"data row7 col1\" >19</td>\n",
       "      <td id=\"T_4cf01_row7_col2\" class=\"data row7 col2\" >0</td>\n",
       "      <td id=\"T_4cf01_row7_col3\" class=\"data row7 col3\" >sG</td>\n",
       "      <td id=\"T_4cf01_row7_col4\" class=\"data row7 col4\" >1809.530000</td>\n",
       "      <td id=\"T_4cf01_row7_col5\" class=\"data row7 col5\" >0.357910</td>\n",
       "      <td id=\"T_4cf01_row7_col6\" class=\"data row7 col6\" >258.604000</td>\n",
       "      <td id=\"T_4cf01_row7_col7\" class=\"data row7 col7\" >17.782400</td>\n",
       "      <td id=\"T_4cf01_row7_col8\" class=\"data row7 col8\" >42171093</td>\n",
       "      <td id=\"T_4cf01_row7_col9\" class=\"data row7 col9\" >41546245.560000</td>\n",
       "    </tr>\n",
       "    <tr>\n",
       "      <th id=\"T_4cf01_level0_row8\" class=\"row_heading level0 row8\" >8</th>\n",
       "      <td id=\"T_4cf01_row8_col0\" class=\"data row8 col0\" >10821</td>\n",
       "      <td id=\"T_4cf01_row8_col1\" class=\"data row8 col1\" >21</td>\n",
       "      <td id=\"T_4cf01_row8_col2\" class=\"data row8 col2\" >0</td>\n",
       "      <td id=\"T_4cf01_row8_col3\" class=\"data row8 col3\" >sG</td>\n",
       "      <td id=\"T_4cf01_row8_col4\" class=\"data row8 col4\" >1781.880000</td>\n",
       "      <td id=\"T_4cf01_row8_col5\" class=\"data row8 col5\" >1.614910</td>\n",
       "      <td id=\"T_4cf01_row8_col6\" class=\"data row8 col6\" >115.139000</td>\n",
       "      <td id=\"T_4cf01_row8_col7\" class=\"data row8 col7\" >29.529300</td>\n",
       "      <td id=\"T_4cf01_row8_col8\" class=\"data row8 col8\" >28202908</td>\n",
       "      <td id=\"T_4cf01_row8_col9\" class=\"data row8 col9\" >27644704.210000</td>\n",
       "    </tr>\n",
       "  </tbody>\n",
       "</table>\n"
      ],
      "text/plain": [
       "<pandas.io.formats.style.Styler at 0x7efea65f97c0>"
      ]
     },
     "execution_count": 53,
     "metadata": {},
     "output_type": "execute_result"
    }
   ],
   "source": [
    "os.chdir(path_specdata)\n",
    "df_t=pd.read_csv(path_specdata+'/'+level+'.txt',sep='\\t')\n",
    "df_t.style"
   ]
  },
  {
   "cell_type": "markdown",
   "id": "e8409180",
   "metadata": {},
   "source": [
    "### Si detector data for transfer"
   ]
  },
  {
   "cell_type": "code",
   "execution_count": 54,
   "id": "9d4f4c2b",
   "metadata": {},
   "outputs": [
    {
     "data": {
      "text/html": [
       "<style type=\"text/css\">\n",
       "</style>\n",
       "<table id=\"T_0e6f3\">\n",
       "  <thead>\n",
       "    <tr>\n",
       "      <th class=\"blank level0\" >&nbsp;</th>\n",
       "      <th id=\"T_0e6f3_level0_col0\" class=\"col_heading level0 col0\" >Angle_LAB</th>\n",
       "      <th id=\"T_0e6f3_level0_col1\" class=\"col_heading level0 col1\" >Angle_CM</th>\n",
       "      <th id=\"T_0e6f3_level0_col2\" class=\"col_heading level0 col2\" >Centroid</th>\n",
       "      <th id=\"T_0e6f3_level0_col3\" class=\"col_heading level0 col3\" >+/-</th>\n",
       "      <th id=\"T_0e6f3_level0_col4\" class=\"col_heading level0 col4\" >Area</th>\n",
       "      <th id=\"T_0e6f3_level0_col5\" class=\"col_heading level0 col5\" >+/-.1</th>\n",
       "      <th id=\"T_0e6f3_level0_col6\" class=\"col_heading level0 col6\" >BCI_Summed</th>\n",
       "      <th id=\"T_0e6f3_level0_col7\" class=\"col_heading level0 col7\" >(BCI*LTR)_Summed</th>\n",
       "    </tr>\n",
       "  </thead>\n",
       "  <tbody>\n",
       "    <tr>\n",
       "      <th id=\"T_0e6f3_level0_row0\" class=\"row_heading level0 row0\" >0</th>\n",
       "      <td id=\"T_0e6f3_row0_col0\" class=\"data row0 col0\" >5</td>\n",
       "      <td id=\"T_0e6f3_row0_col1\" class=\"data row0 col1\" >5.460000</td>\n",
       "      <td id=\"T_0e6f3_row0_col2\" class=\"data row0 col2\" >2091.850000</td>\n",
       "      <td id=\"T_0e6f3_row0_col3\" class=\"data row0 col3\" >1.700000</td>\n",
       "      <td id=\"T_0e6f3_row0_col4\" class=\"data row0 col4\" >46506.690000</td>\n",
       "      <td id=\"T_0e6f3_row0_col5\" class=\"data row0 col5\" >293.370000</td>\n",
       "      <td id=\"T_0e6f3_row0_col6\" class=\"data row0 col6\" >12502753</td>\n",
       "      <td id=\"T_0e6f3_row0_col7\" class=\"data row0 col7\" >12263041.840000</td>\n",
       "    </tr>\n",
       "    <tr>\n",
       "      <th id=\"T_0e6f3_level0_row1\" class=\"row_heading level0 row1\" >1</th>\n",
       "      <td id=\"T_0e6f3_row1_col0\" class=\"data row1 col0\" >7</td>\n",
       "      <td id=\"T_0e6f3_row1_col1\" class=\"data row1 col1\" >7.640000</td>\n",
       "      <td id=\"T_0e6f3_row1_col2\" class=\"data row1 col2\" >2098.320000</td>\n",
       "      <td id=\"T_0e6f3_row1_col3\" class=\"data row1 col3\" >1.790000</td>\n",
       "      <td id=\"T_0e6f3_row1_col4\" class=\"data row1 col4\" >86094.540000</td>\n",
       "      <td id=\"T_0e6f3_row1_col5\" class=\"data row1 col5\" >391.070000</td>\n",
       "      <td id=\"T_0e6f3_row1_col6\" class=\"data row1 col6\" >23508100</td>\n",
       "      <td id=\"T_0e6f3_row1_col7\" class=\"data row1 col7\" >23125236.150000</td>\n",
       "    </tr>\n",
       "    <tr>\n",
       "      <th id=\"T_0e6f3_level0_row2\" class=\"row_heading level0 row2\" >2</th>\n",
       "      <td id=\"T_0e6f3_row2_col0\" class=\"data row2 col0\" >9</td>\n",
       "      <td id=\"T_0e6f3_row2_col1\" class=\"data row2 col1\" >9.820000</td>\n",
       "      <td id=\"T_0e6f3_row2_col2\" class=\"data row2 col2\" >2099.450000</td>\n",
       "      <td id=\"T_0e6f3_row2_col3\" class=\"data row2 col3\" >1.660000</td>\n",
       "      <td id=\"T_0e6f3_row2_col4\" class=\"data row2 col4\" >70297.190000</td>\n",
       "      <td id=\"T_0e6f3_row2_col5\" class=\"data row2 col5\" >340.120000</td>\n",
       "      <td id=\"T_0e6f3_row2_col6\" class=\"data row2 col6\" >19628546</td>\n",
       "      <td id=\"T_0e6f3_row2_col7\" class=\"data row2 col7\" >19277219.690000</td>\n",
       "    </tr>\n",
       "    <tr>\n",
       "      <th id=\"T_0e6f3_level0_row3\" class=\"row_heading level0 row3\" >3</th>\n",
       "      <td id=\"T_0e6f3_row3_col0\" class=\"data row3 col0\" >11</td>\n",
       "      <td id=\"T_0e6f3_row3_col1\" class=\"data row3 col1\" >12.010000</td>\n",
       "      <td id=\"T_0e6f3_row3_col2\" class=\"data row3 col2\" >2101.380000</td>\n",
       "      <td id=\"T_0e6f3_row3_col3\" class=\"data row3 col3\" >1.570000</td>\n",
       "      <td id=\"T_0e6f3_row3_col4\" class=\"data row3 col4\" >93224.450000</td>\n",
       "      <td id=\"T_0e6f3_row3_col5\" class=\"data row3 col5\" >396.230000</td>\n",
       "      <td id=\"T_0e6f3_row3_col6\" class=\"data row3 col6\" >21290537</td>\n",
       "      <td id=\"T_0e6f3_row3_col7\" class=\"data row3 col7\" >20891891.220000</td>\n",
       "    </tr>\n",
       "    <tr>\n",
       "      <th id=\"T_0e6f3_level0_row4\" class=\"row_heading level0 row4\" >4</th>\n",
       "      <td id=\"T_0e6f3_row4_col0\" class=\"data row4 col0\" >13</td>\n",
       "      <td id=\"T_0e6f3_row4_col1\" class=\"data row4 col1\" >14.180000</td>\n",
       "      <td id=\"T_0e6f3_row4_col2\" class=\"data row4 col2\" >2103.230000</td>\n",
       "      <td id=\"T_0e6f3_row4_col3\" class=\"data row4 col3\" >2103.230000</td>\n",
       "      <td id=\"T_0e6f3_row4_col4\" class=\"data row4 col4\" >94816.750000</td>\n",
       "      <td id=\"T_0e6f3_row4_col5\" class=\"data row4 col5\" >431.900000</td>\n",
       "      <td id=\"T_0e6f3_row4_col6\" class=\"data row4 col6\" >20114597</td>\n",
       "      <td id=\"T_0e6f3_row4_col7\" class=\"data row4 col7\" >19718959.760000</td>\n",
       "    </tr>\n",
       "    <tr>\n",
       "      <th id=\"T_0e6f3_level0_row5\" class=\"row_heading level0 row5\" >5</th>\n",
       "      <td id=\"T_0e6f3_row5_col0\" class=\"data row5 col0\" >15</td>\n",
       "      <td id=\"T_0e6f3_row5_col1\" class=\"data row5 col1\" >16.360000</td>\n",
       "      <td id=\"T_0e6f3_row5_col2\" class=\"data row5 col2\" >2097.250000</td>\n",
       "      <td id=\"T_0e6f3_row5_col3\" class=\"data row5 col3\" >1.770000</td>\n",
       "      <td id=\"T_0e6f3_row5_col4\" class=\"data row5 col4\" >140814.370000</td>\n",
       "      <td id=\"T_0e6f3_row5_col5\" class=\"data row5 col5\" >502.340000</td>\n",
       "      <td id=\"T_0e6f3_row5_col6\" class=\"data row5 col6\" >33991230</td>\n",
       "      <td id=\"T_0e6f3_row5_col7\" class=\"data row5 col7\" >33219017.200000</td>\n",
       "    </tr>\n",
       "    <tr>\n",
       "      <th id=\"T_0e6f3_level0_row6\" class=\"row_heading level0 row6\" >6</th>\n",
       "      <td id=\"T_0e6f3_row6_col0\" class=\"data row6 col0\" >17</td>\n",
       "      <td id=\"T_0e6f3_row6_col1\" class=\"data row6 col1\" >18.540000</td>\n",
       "      <td id=\"T_0e6f3_row6_col2\" class=\"data row6 col2\" >2103.730000</td>\n",
       "      <td id=\"T_0e6f3_row6_col3\" class=\"data row6 col3\" >1.640000</td>\n",
       "      <td id=\"T_0e6f3_row6_col4\" class=\"data row6 col4\" >123875.500000</td>\n",
       "      <td id=\"T_0e6f3_row6_col5\" class=\"data row6 col5\" >488.210000</td>\n",
       "      <td id=\"T_0e6f3_row6_col6\" class=\"data row6 col6\" >30171610</td>\n",
       "      <td id=\"T_0e6f3_row6_col7\" class=\"data row6 col7\" >29630961.540000</td>\n",
       "    </tr>\n",
       "    <tr>\n",
       "      <th id=\"T_0e6f3_level0_row7\" class=\"row_heading level0 row7\" >7</th>\n",
       "      <td id=\"T_0e6f3_row7_col0\" class=\"data row7 col0\" >19</td>\n",
       "      <td id=\"T_0e6f3_row7_col1\" class=\"data row7 col1\" >20.710000</td>\n",
       "      <td id=\"T_0e6f3_row7_col2\" class=\"data row7 col2\" >2103.510000</td>\n",
       "      <td id=\"T_0e6f3_row7_col3\" class=\"data row7 col3\" >1.670000</td>\n",
       "      <td id=\"T_0e6f3_row7_col4\" class=\"data row7 col4\" >159819.640000</td>\n",
       "      <td id=\"T_0e6f3_row7_col5\" class=\"data row7 col5\" >555.840000</td>\n",
       "      <td id=\"T_0e6f3_row7_col6\" class=\"data row7 col6\" >42171093</td>\n",
       "      <td id=\"T_0e6f3_row7_col7\" class=\"data row7 col7\" >41546245.560000</td>\n",
       "    </tr>\n",
       "    <tr>\n",
       "      <th id=\"T_0e6f3_level0_row8\" class=\"row_heading level0 row8\" >8</th>\n",
       "      <td id=\"T_0e6f3_row8_col0\" class=\"data row8 col0\" >21</td>\n",
       "      <td id=\"T_0e6f3_row8_col1\" class=\"data row8 col1\" >22.890000</td>\n",
       "      <td id=\"T_0e6f3_row8_col2\" class=\"data row8 col2\" >2101.420000</td>\n",
       "      <td id=\"T_0e6f3_row8_col3\" class=\"data row8 col3\" >1.780000</td>\n",
       "      <td id=\"T_0e6f3_row8_col4\" class=\"data row8 col4\" >101381.180000</td>\n",
       "      <td id=\"T_0e6f3_row8_col5\" class=\"data row8 col5\" >472.700000</td>\n",
       "      <td id=\"T_0e6f3_row8_col6\" class=\"data row8 col6\" >28202908</td>\n",
       "      <td id=\"T_0e6f3_row8_col7\" class=\"data row8 col7\" >27644704.210000</td>\n",
       "    </tr>\n",
       "  </tbody>\n",
       "</table>\n"
      ],
      "text/plain": [
       "<pandas.io.formats.style.Styler at 0x7efeacf30490>"
      ]
     },
     "execution_count": 54,
     "metadata": {},
     "output_type": "execute_result"
    }
   ],
   "source": [
    "df_t_si=pd.read_csv(path_specdata+'/'+'Si_transfer.txt',sep='\\t')\n",
    "# drop extra values\n",
    "i=0\n",
    "while i<len(df_t):\n",
    "    if (df_t_si['Angle_LAB'][i]!=df_t['Angle_LAB'][i]):\n",
    "        df_t_si.drop(i,inplace=True)\n",
    "        df_t_si.reset_index(drop=True,inplace=True)\n",
    "        continue\n",
    "    i=i+1\n",
    "while i<len(df_t_si):\n",
    "    df_t_si.drop(i,inplace=True)\n",
    "    df_t_si.reset_index(drop=True,inplace=True)\n",
    "df_t_si.style"
   ]
  },
  {
   "cell_type": "code",
   "execution_count": null,
   "id": "037a61bb",
   "metadata": {},
   "outputs": [],
   "source": []
  },
  {
   "cell_type": "markdown",
   "id": "49c86ee2",
   "metadata": {},
   "source": [
    "## Lab to CM angle transformation and yield correction"
   ]
  },
  {
   "cell_type": "markdown",
   "id": "ab11cea9",
   "metadata": {},
   "source": [
    "The angles are can be converted to CM frame with JRelKin. However, I put it here in python code to facilitate calculations. I derived an equation from the book $\\textbf{Nuclear Physics of Stars}\\space (2015)$ by Christian ILiadis:\n",
    "$$\\cos \\theta_{lab}=\\frac{\\gamma+\\cos \\theta_{CM}}{\\sqrt{1+\\gamma^{2}+2 \\gamma \\cos \\theta_{CM}}}$$\n",
    "\n",
    "\n",
    "$$\\Longrightarrow \\cos\\theta_{CM}=-\\gamma\\sin^2\\theta_{lab}+\\cos\\theta_{lab}\\sqrt{1-\\gamma^2\\sin^2\\theta_{lab}}$$\n",
    "$\\space\\gamma$ is defined by eqn.(C.39) for transfer reaction $A(a,b)B$: \n",
    "\n",
    "$$\\gamma\\approx \\sqrt{\\frac{m_{a} m_{b}}{m_{A} m_{B}} \\frac{E_{a}}{\\left(1+m_{a} / m_{A}\\right) Q+E_{a}}}$$\n",
    "\n",
    "$Q$ is calculated with eqn.(C.17): $Q=Q_0-E_x$.\n",
    "\n",
    "My converted angle has a ~0.02 degree of difference compared with JRelKin results. Haven't figured out the reason..."
   ]
  },
  {
   "cell_type": "code",
   "execution_count": 55,
   "id": "9dda0e31",
   "metadata": {},
   "outputs": [
    {
     "name": "stdout",
     "output_type": "stream",
     "text": [
      "CM angles:  [5.604805536517591, 7.845710895797162, 10.085600691989525, 12.324186610801402, 14.561181723785024, 16.796300797259107, 19.0292606017338, 21.25978022186898, 23.487581366966623]\n"
     ]
    }
   ],
   "source": [
    "Q=Qval-Ex\n",
    "gamma=np.sqrt(m_3He*m_d/m_23Na/m_24Mg*Ep/((1+m_3He/m_23Na)*Q+Ep))\n",
    "Angle_CM=angle_lab_to_CM(df_t['Angle_LAB'],gamma)\n",
    "print('CM angles: ',[i for i in Angle_CM])"
   ]
  },
  {
   "cell_type": "markdown",
   "id": "94358108",
   "metadata": {},
   "source": [
    "Using eqn.(C.43) and (C.44) from the book, the correction for the yield would be: \n",
    "$$\\frac{(d Y / d \\Omega)_{\\theta-CM}}{(d Y / d \\Omega)_{\\theta-Lab}}=\\frac{d(\\cos \\theta_{Lab})}{d\\left(\\cos \\theta_{CM}\\right)}=\\frac{\\sqrt{1-\\gamma^{2} \\sin ^{2} \\theta_{Lab}}}{\\left(\\gamma \\cos \\theta_{Lab}+\\sqrt{1-\\gamma^{2} \\sin ^{2} \\theta_{Lab}}\\right)^{2}}$$\n",
    "\n",
    "Here we apply the correction for the yield instead of cross section. Note that the silicon detector was placed at 45 degree in lab frame, never changed. For elastic scattering, $\\gamma=\\frac{m_a}{m_A}$"
   ]
  },
  {
   "cell_type": "code",
   "execution_count": 56,
   "id": "0b8c0959",
   "metadata": {},
   "outputs": [
    {
     "name": "stdout",
     "output_type": "stream",
     "text": [
      "CM angle for si detector:  50.3227177404472\n"
     ]
    }
   ],
   "source": [
    "Angle_si=angle_lab_to_CM(45,m_3He/m_23Na)\n",
    "print('CM angle for si detector: ',Angle_si)\n",
    "frame_corr_trans=np.sqrt(1-gamma**2*np.sin(Angle_CM*np.pi/180)**2)/(gamma*np.cos(Angle_CM*np.pi/180)+np.sqrt(1-gamma**2*np.sin(Angle_CM*np.pi/180)**2)**2)\n",
    "frame_corr_si=np.sqrt(1-gamma**2*np.sin(Angle_si*np.pi/180)**2)/(gamma*np.cos(Angle_si*np.pi/180)+np.sqrt(1-gamma**2*np.sin(Angle_si*np.pi/180)**2)**2)\n",
    "# print('Frame correstion for transfer: \\n',frame_corr_trans)\n",
    "# print('Frame correstion for Si: \\n',frame_corr_si)"
   ]
  },
  {
   "cell_type": "markdown",
   "id": "ee67239d",
   "metadata": {},
   "source": [
    "## Calcultions for yields and cross sections"
   ]
  },
  {
   "cell_type": "markdown",
   "id": "8112ba34",
   "metadata": {},
   "source": [
    "### Yield"
   ]
  },
  {
   "cell_type": "markdown",
   "id": "99366379",
   "metadata": {},
   "source": [
    "From Caleb's thesis p.132:\n",
    "$$\\frac{d Y}{d \\Omega}=\\frac{N_{R}}{N_{B} \\Omega}$$\n",
    "Where\n",
    "$$N_R=\\frac{A}{t_{live}}$$\n",
    "$$ $$\n",
    "$$N_B=\\frac{BCI\\times fullscale}{eq}$$\n",
    "The geometric solid angles are $\\Omega_{FP}=1.00(4)\\space msr$ for the focal plane detector, and $\\Omega_{Si}=4.23(4)\\space msr$ for the silicon monitor detector. A is the peak area in the spectrum, \n",
    "$t_{live}$ is the livetime, the BCI full-scale was set to $10^{-10}$ C/pulse. $e$ is the elementary charge. The charge state of the beam: $q=+2$ for $^3 He$ beam in this experiment.\n",
    "$$$$\n",
    "We get the yield:\n",
    "$$ $$\n",
    "$$\\left(\\frac{d Y}{d \\Omega}\\right)_{trans}=\\frac{Aeq}{\\Omega_{FP}\\times BCI\\times t_{live}\\times fullscale}=\\frac{A\\times 1.6\\times 10^{-19}\\times 2}{1\\times BCI\\times t_{live}\\times10^{-10}}=3.2\\times 10^{-9}\\times\\frac{A}{BCI\\times t_{live}}$$ $$$$\n",
    "$$\\left(\\frac{d Y}{d \\Omega}\\right)_{Si}=\\frac{Aeq}{\\Omega_{Si}\\times BCI\\times t_{live}\\times fullscale}=\\frac{A\\times 1.6\\times 10^{-19}\\times 2}{4.23\\times BCI\\times t_{live}\\times10^{-10}}=7.57\\times 10^{-10}\\times\\frac{A}{BCI\\times t_{live}}$$\n",
    "$$$$\n",
    "(My si detector yield is 1000 smaller than Caleb's Table 6.5. I haven't figured out the reason. Maybe Caleb used the wrong unit in the table?)"
   ]
  },
  {
   "cell_type": "code",
   "execution_count": null,
   "id": "f85c984b",
   "metadata": {},
   "outputs": [],
   "source": []
  },
  {
   "cell_type": "code",
   "execution_count": 57,
   "id": "6f4df58b",
   "metadata": {
    "scrolled": true
   },
   "outputs": [
    {
     "name": "stdout",
     "output_type": "stream",
     "text": [
      "Transfer yield in sr^-1: \n",
      "\n",
      "5.604805536517591 \t 5.40064831250107e-14\n",
      "7.845710895797162 \t 4.9308457656602985e-14\n",
      "10.085600691989525 \t 4.27887297300875e-14\n",
      "12.324186610801402 \t 4.650020099057022e-14\n",
      "14.561181723785024 \t 6.358459288412333e-14\n",
      "16.796300797259107 \t 3.771042640478291e-14\n",
      "19.0292606017338 \t 3.7194509148680205e-14\n",
      "21.25978022186898 \t 1.791195320533403e-14\n",
      "23.487581366966623 \t 1.2006629517493702e-14\n",
      "\n",
      " Si yield in sr^-1: \n",
      "\n",
      "5.604805536517591 \t 2.674779081121486e-12\n",
      "7.845710895797162 \t 2.625790851530185e-12\n",
      "10.085600691989525 \t 2.5719603301643633e-12\n",
      "12.324186610801402 \t 3.1471886128177113e-12\n",
      "14.561181723785024 \t 3.391343352365892e-12\n",
      "16.796300797259107 \t 2.9897225991874596e-12\n",
      "19.0292606017338 \t 2.94856273818407e-12\n",
      "21.25978022186898 \t 2.7131203675538553e-12\n",
      "23.487581366966623 \t 2.5865214929595635e-12\n"
     ]
    }
   ],
   "source": [
    "\n",
    "Yield_trans=3.2*10**(-9)*df_t['Area']/df_t['(BCI*LTR)_Summed']*frame_corr_trans\n",
    "Yield_t_si=7.57*10**(-10)*df_t_si['Area']/df_t_si['(BCI*LTR)_Summed']*frame_corr_si\n",
    "avg_Yield_t_si=weighted_average(Yield_t_si,df_t_si['(BCI*LTR)_Summed'])\n",
    "\n",
    "print('Transfer yield in sr^-1: \\n')\n",
    "layout(Angle_CM,Yield_trans)\n",
    "print('\\n','Si yield in sr^-1: \\n')\n",
    "layout(Angle_CM,Yield_t_si)\n",
    "\n"
   ]
  },
  {
   "cell_type": "code",
   "execution_count": 58,
   "id": "91ae4627",
   "metadata": {},
   "outputs": [
    {
     "data": {
      "image/png": "[encoded data removed]",
      "text/plain": [
       "<Figure size 950x650 with 1 Axes>"
      ]
     },
     "metadata": {},
     "output_type": "display_data"
    }
   ],
   "source": [
    "makefigure('Si Detector Yield for Transfer','Angle_CM','Yield')\n",
    "plt.scatter(Angle_CM,Yield_t_si,label='Si yield')\n",
    "# plt.scatter(Angle_CM,[1.9e-12,2.18e-12,2.6e-12,2.75e-12,3.70e-12,2.54e-12,2.79e-12,2.57e-12,2.4e-12],label='Caleb11390')\n",
    "Yield_t_si_caleb=[1.9E-12,2.18E-12,2.6E-12,2.75E-12,3.7E-12,2.54E-12,2.79E-12,2.57E-12,2.4E-12]\n",
    "plt.scatter(Angle_CM,Yield_t_si_caleb,label='Caleb\\'s Si yield')\n",
    "plt.axhline(y=avg_Yield_t_si, color='r', linestyle='-',label='Average over BCI')\n",
    "avg_Yield_t_si_caleb=weighted_average(Yield_t_si_caleb,df_t_si['(BCI*LTR)_Summed'])\n",
    "plt.axhline(y=avg_Yield_t_si_caleb, color='orange', linestyle='-',label='Average of Caleb\\'s')\n",
    "plt.legend(fontsize=15)\n",
    "plt.show()\n",
    "# print(avg_Yield_t_si/weighted_average(Yield_t_si_caleb,df_t_si['(BCI*LTR)_Summed'])-1)\n",
    "# print(\"My Si yield is larger than Caleb's for:\",(avg_Yield_t_si-avg_Yield_t_si_caleb)/avg_Yield_t_si_caleb*100,'%')"
   ]
  },
  {
   "cell_type": "code",
   "execution_count": 59,
   "id": "77910d99",
   "metadata": {},
   "outputs": [
    {
     "data": {
      "text/plain": [
       "0.10076448883729393"
      ]
     },
     "execution_count": 59,
     "metadata": {},
     "output_type": "execute_result"
    }
   ],
   "source": [
    "np.sqrt(np.sum(((Yield_t_si-avg_Yield_t_si)/avg_Yield_t_si)**2)/(len(Yield_t_si)-1))"
   ]
  },
  {
   "cell_type": "markdown",
   "id": "83107d0a",
   "metadata": {},
   "source": [
    "### Correct transfer yield from Si detector data"
   ]
  },
  {
   "cell_type": "markdown",
   "id": "83f6aec6",
   "metadata": {},
   "source": [
    "Next we would like to normalize the transfer yield with the monitor detector yield according to eqn.(6.15) on page 136 in Caleb's thesis:\n",
    "\n",
    "$$\\frac{d Y}{d \\Omega}\\left(\\theta_{i}\\right)=\\left[\\frac{d Y}{d \\Omega}_{F P}\\left(\\theta_{i}\\right) / \\frac{d Y}{d \\Omega}_{\\text {Si}}\\right]$$\n",
    "\n",
    "The reasoning behind this is desctibed on page 131, sect 6.8 in Caleb's thesis."
   ]
  },
  {
   "cell_type": "code",
   "execution_count": 60,
   "id": "92e18708",
   "metadata": {},
   "outputs": [
    {
     "name": "stdout",
     "output_type": "stream",
     "text": [
      "Normalized Yield: \n",
      "5.604805536517591 \t 0.020191006990516305\n",
      "7.845710895797162 \t 0.018778516814417407\n",
      "10.085600691989525 \t 0.016636621190558195\n",
      "12.324186610801402 \t 0.014775155451817073\n",
      "14.561181723785024 \t 0.01874908739033015\n",
      "16.796300797259107 \t 0.01261335296292431\n",
      "19.0292606017338 \t 0.012614454041289\n",
      "21.25978022186898 \t 0.00660197513517744\n",
      "23.487581366966623 \t 0.004641998742394138\n"
     ]
    },
    {
     "data": {
      "image/png": "[encoded data removed]",
      "text/plain": [
       "<Figure size 950x650 with 1 Axes>"
      ]
     },
     "metadata": {},
     "output_type": "display_data"
    }
   ],
   "source": [
    "Yield_norm=Yield_trans/Yield_t_si\n",
    "print('Normalized Yield: ')\n",
    "layout(Angle_CM,Yield_norm)\n",
    "makefigure('Normalized Transfer Yield for '+level+' keV','Angle_CM','Yield')\n",
    "plt.scatter(Angle_CM,Yield_norm,label='Normalized yield')\n",
    "plt.legend(fontsize=15)\n",
    "plt.yscale('log')\n",
    "# plt.ylim(1e-2,3e-1)\n",
    "\n",
    "plt.show()"
   ]
  },
  {
   "cell_type": "markdown",
   "id": "b6e57c43",
   "metadata": {},
   "source": [
    "### Calculate uncertainties"
   ]
  },
  {
   "cell_type": "markdown",
   "id": "4e401593",
   "metadata": {},
   "source": [
    "Now I'm going to evaluate the uncertainties of the yield data. There are 3 sources: measuring the area of FP detector data peaks, si detector peaks, and a run-to-run fluctuation measured from si detector.\n",
    "$$$$\n",
    "$$\\sigma_{Y}=\\sqrt{\\sigma_{Atrans}^{2}+\\sigma_{Asi}^{2}+\\sigma_{si-fluc}^{2}}$$\n",
    "$$$$\n",
    "To measure the Na peak area from si detector in each run, the same region of background and peak area are chosen. To facilitate the work, a total count of the peak is recorded without fitting, which has a ~3% difference compared with fitting a lognormal function. Furthermore, I took out all the scaling factors and calculate the uncertainty as a percentage of the yield.\n",
    "$$$$\n",
    "$$\\frac{\\sigma_{si-fluc}(\\theta)}{\\sigma_{Y}(\\theta)}=\\sqrt{\\sum_{i}\\{\\frac{\\epsilon_i}{\\epsilon_{total}}[\\frac{\\sigma_{i}(\\theta)-\\sigma_{total}(\\theta)}{\\sigma_{total}(\\theta)}]^2\\}}$$\n",
    "$$$$\n",
    "Here I use $\\epsilon=(BCI*LTR)$ as a weight because it reflects the amount data we collected, and the reliability. The summation is over each individual runs at an angle $\\theta$."
   ]
  },
  {
   "cell_type": "code",
   "execution_count": 61,
   "id": "9fcc7795",
   "metadata": {},
   "outputs": [
    {
     "data": {
      "text/plain": [
       "0    0.200233\n",
       "1    0.086857\n",
       "2    0.226842\n",
       "3    0.126678\n",
       "4    0.285061\n",
       "5    0.108167\n",
       "6    0.100989\n",
       "7    0.093245\n",
       "8    0.258326\n",
       "dtype: float64"
      ]
     },
     "execution_count": 61,
     "metadata": {},
     "output_type": "execute_result"
    }
   ],
   "source": [
    "\n",
    "df_t_u=pd.read_csv(path_specdata+'/'+'Si_transfer_RuntoRun.txt',sep='\\t')\n",
    "# print(df_t_u)\n",
    "uncertainty_runtorun=[]\n",
    "for angle in df_t['Angle_LAB']:\n",
    "#     df_selected_angle=df_t_u.loc[df_t_u['Angle_LAB'] == angle]\n",
    "#     Yield_unnorm=weighted_average(df_selected_angle['Area'],df_selected_angle['(BCI*LTR)_Summed'])\n",
    "#     uncertainty_runtorun.append(np.sqrt(sum(((df_selected_angle['Area']-Yield_unnorm)/Yield_unnorm*df_selected_angle['(BCI*LTR)_Summed'])**2))/sum(df_selected_angle['(BCI*LTR)_Summed']))\n",
    "#     print(uncertainty_runtorun[-1])\n",
    "    df_selected_angle=df_t_u.loc[df_t_u['Angle_LAB'] == angle]\n",
    "    Yield_runtorun=df_selected_angle['Area']/df_selected_angle['(BCI*LTR)_Summed']\n",
    "    Yield_unnorm=df_t_si.loc[df_t['Angle_LAB'] == angle]['Area']/df_t_si.loc[df_t['Angle_LAB'] == angle]['(BCI*LTR)_Summed']\n",
    "    Yield_unnorm=Yield_unnorm.values\n",
    "    uncertainty_runtorun.append(np.sqrt(sum(((Yield_runtorun-Yield_unnorm)/Yield_unnorm)**2*df_selected_angle['(BCI*LTR)_Summed']/df_t_si.loc[df_t['Angle_LAB'] == angle]['(BCI*LTR)_Summed'].values)))\n",
    "Yield_uncertainty=np.sqrt((df_t['+/-.1']/df_t['Area'])**2+(df_t_si['+/-.1']/df_t_si['Area'])**2+np.array(uncertainty_runtorun)**2)\n",
    "Yield_uncertainty"
   ]
  },
  {
   "cell_type": "markdown",
   "id": "fb8c93f7",
   "metadata": {},
   "source": [
    "### Cross section"
   ]
  },
  {
   "cell_type": "markdown",
   "id": "e61a6ff1",
   "metadata": {},
   "source": [
    "At this point we can save the yield data and run MCMC. Alternatively, I'll try to extract the cross section and $C^2S$ with traditional calculations below.\n",
    "I use eqn.(3.31) from Kiana's thesis p.107 to calculate the cross section from the yield:\n",
    "$$\\left(\\frac{d \\sigma}{d \\Omega}\\right)_{\\theta}=\\left(\\frac{d Y}{d \\Omega}\\right)_{\\theta} \\frac{n A}{\\left(3.75 \\times 10^{3}\\right) q \\nu \\Delta x}\\times 10^{-3}$$\n",
    "Multiplying $10^{-3}$ to convert the unit from $\\mu b/sr$ to $mb/sr$. $A$ is the atomic or molecular mass of the target in grams, $A=23$ for $^{23}Na$. $n$ is the number of unit charges carried by the beam particles, $n=2$ for $^3He$, $q$ is the total charge deposited by the beam (in mC), which can be calculated from BCI. $\\Delta x$ is the target thickness in $mg/cm^2$, $\\Delta x=70.18\\space \\mu g/cm^2=7.18\\times 10^{-2}\\space mg/cm^2$ according to the logbook. $\\nu$ is the number of atoms per molecule, which is 1 for $NaBr$."
   ]
  },
  {
   "cell_type": "code",
   "execution_count": 62,
   "id": "b861e219",
   "metadata": {},
   "outputs": [
    {
     "name": "stdout",
     "output_type": "stream",
     "text": [
      "5.604805536517591 \t 2.7590174505649326e-06\n",
      "7.845710895797162 \t 1.3647272947717901e-06\n",
      "10.085600691989525 \t 1.4480351948808189e-06\n",
      "12.324186610801402 \t 1.1856255863547331e-06\n",
      "14.561181723785024 \t 1.592468744782923e-06\n",
      "16.796300797259107 \t 6.339657393095901e-07\n",
      "19.0292606017338 \t 7.142859261955178e-07\n",
      "21.25978022186898 \t 2.674614204382831e-07\n",
      "23.487581366966623 \t 2.811986604312422e-07\n"
     ]
    }
   ],
   "source": [
    "CrossSection_lab=Yield_norm*2*23/(3.75*10**3)/(df_t['BCI_Summed']*10**(-10)*10**3)/(7.18*10**-2)*10**-3\n",
    "layout(Angle_CM,CrossSection_lab)"
   ]
  },
  {
   "cell_type": "markdown",
   "id": "83965ce2",
   "metadata": {},
   "source": [
    "Use eqn.(2.36) from page 24 of Caleb's thesis:\n",
    "$$\\frac{d \\sigma}{d \\Omega}_{E x p}=C^{2} S_{A+p} C^{2} S_{d+p} \\frac{d \\sigma}{d \\Omega}_{\\mathrm{DWBA}}$$\n",
    "Also cite $C^{2} S_{d+p}=1.5$ $$$$\n",
    "We get:$$C^{2} S_{A+p}= \\frac23 \\left(\\frac{d \\sigma}{d \\Omega}_{E x p}\\right)/\\left(\\frac{d \\sigma}{d \\Omega}_{\\mathrm{DWBA}}\\right)$$\n",
    "Next, we run fresco DWBA calculations to get the cross section $\\frac{d \\sigma}{d \\Omega}_{\\mathrm{DWBA}}$."
   ]
  },
  {
   "cell_type": "markdown",
   "id": "24fc6b7e",
   "metadata": {},
   "source": [
    "## Run fresco for DWBA calculations"
   ]
  },
  {
   "cell_type": "code",
   "execution_count": 63,
   "id": "c5ae2fd1",
   "metadata": {},
   "outputs": [
    {
     "name": "stdout",
     "output_type": "stream",
     "text": [
      "fresco</home/kaixin/Documents/23NaHe3d_Analysis/FrescoInputFiles/Na23He3d_10821keV.in> /dev/null\n"
     ]
    }
   ],
   "source": [
    "os.chdir(path_fresco)\n",
    "if method=='zero_range':\n",
    "    method=''\n",
    "else:\n",
    "    method='_'+method\n",
    "fresco_input = path_fresco+'/FrescoInputFiles/Na23He3d_'+level+'keV'+method+'.in'\n",
    "#elastic_data_path = path_fresco_data+'/23Na-3He-3He copy.data'\n",
    "#transfer_data_path = path_fresco_data+'23Na-3He-d-'+level+'.txt'\n",
    "filerun(fresco_input)"
   ]
  },
  {
   "cell_type": "code",
   "execution_count": 64,
   "id": "4d718eee",
   "metadata": {},
   "outputs": [
    {
     "data": {
      "text/plain": [
       "''"
      ]
     },
     "execution_count": 64,
     "metadata": {},
     "output_type": "execute_result"
    }
   ],
   "source": [
    "method"
   ]
  },
  {
   "cell_type": "markdown",
   "id": "a13332d3",
   "metadata": {},
   "source": [
    "## Read fresco result, plot with scaled experiment data,  and estimate $C^2S$ from the scaling"
   ]
  },
  {
   "cell_type": "code",
   "execution_count": 65,
   "id": "1cf58e75",
   "metadata": {},
   "outputs": [
    {
     "data": {
      "image/png": "[encoded data removed]",
      "text/plain": [
       "<Figure size 950x650 with 1 Axes>"
      ]
     },
     "metadata": {},
     "output_type": "display_data"
    }
   ],
   "source": [
    "[theta_es, sigma_es] = read_cross('./fort.201')\n",
    "\n",
    "[theta_trans, sigma_trans] = read_cross('./fort.202')\n",
    "#??? #sigma_trans=[x/4/np.pi for x in sigma_trans]\n",
    "spline_trans = interpolate.UnivariateSpline(theta_trans,sigma_trans,s=0)\n",
    "makefigure('23Na(3He,d) Transfer Cross Section','Angle_CM','Sigma (mb for fresco)')\n",
    "plt.plot(theta_trans[0:30], spline_trans(theta_trans)[0:30], label='fresco-'+level+'keV', lw=1.5)\n",
    "# plt.errorbar(expES.theta, expES.sigma, expES.erry, label='Experiment-'+level+'keV',fmt='o', color='k')\n",
    "scaling_factor_trans=np.average(Yield_norm)/np.average(spline_trans(Angle_CM))\n",
    "exp=LineObject(Angle_CM,Yield_norm)\n",
    "# trans=LineObject(theta_trans, sigma_trans)\n",
    "# scaling_factor_trans=1/Minimizations.ScaleMinimize(exp,trans).x\n",
    "plt.scatter(Angle_CM,Yield_norm/scaling_factor_trans,color='red',label='experiment-'+level+'keV')\n",
    "plt.errorbar(Angle_CM, Yield_norm/scaling_factor_trans, yerr=Yield_norm/scaling_factor_trans*Yield_uncertainty, fmt=\"o\",color='red')\n",
    "plt.yscale('log')\n",
    "plt.legend(fontsize=15)\n",
    "plt.tight_layout()\n",
    "# C2S=3/2*scaling_factor_trans*7.25 #Smaller than MCMC results by a factor\n",
    "# print('C2S =',C2S)\n",
    "# print('(2J+1)C2S =',(2*3+1)*C2S) \n"
   ]
  },
  {
   "cell_type": "markdown",
   "id": "66957a0d",
   "metadata": {},
   "source": [
    "## Save yield data for MCMC calculations"
   ]
  },
  {
   "cell_type": "code",
   "execution_count": 66,
   "id": "3182ab6c",
   "metadata": {},
   "outputs": [],
   "source": [
    "# ratio of transfer yield to si detector yield, we know it's proportional to the cross section.\n",
    "d = {'Theta(CM)': Angle_CM, 'Sigma_Ratio': Yield_norm, 'uncertainty':Yield_norm*Yield_uncertainty}\n",
    "df = pd.DataFrame(data=d)\n",
    "df.to_csv(path_fresco_data+'/23Na-3He-d-'+level+'keV.data',sep='\\t',index=False)\n"
   ]
  },
  {
   "cell_type": "code",
   "execution_count": 67,
   "id": "4a3dec24",
   "metadata": {},
   "outputs": [
    {
     "name": "stdout",
     "output_type": "stream",
     "text": [
      "5.604805536517591 \t 2.674779081121486e-12\n",
      "7.845710895797162 \t 2.625790851530185e-12\n",
      "10.085600691989525 \t 2.5719603301643633e-12\n",
      "12.324186610801402 \t 3.1471886128177113e-12\n",
      "14.561181723785024 \t 3.391343352365892e-12\n",
      "16.796300797259107 \t 2.9897225991874596e-12\n",
      "19.0292606017338 \t 2.94856273818407e-12\n",
      "21.25978022186898 \t 2.7131203675538553e-12\n",
      "23.487581366966623 \t 2.5865214929595635e-12\n"
     ]
    }
   ],
   "source": [
    "layout(Angle_CM,Yield_t_si)"
   ]
  },
  {
   "cell_type": "code",
   "execution_count": null,
   "id": "7b50b9a5",
   "metadata": {},
   "outputs": [],
   "source": []
  },
  {
   "cell_type": "code",
   "execution_count": null,
   "id": "892e3aea",
   "metadata": {},
   "outputs": [],
   "source": []
  },
  {
   "cell_type": "code",
   "execution_count": null,
   "id": "d1a12ed9",
   "metadata": {},
   "outputs": [],
   "source": []
  },
  {
   "cell_type": "code",
   "execution_count": 68,
   "id": "82fcd8f2",
   "metadata": {},
   "outputs": [
    {
     "data": {
      "text/plain": [
       "0.181343624275484"
      ]
     },
     "execution_count": 68,
     "metadata": {},
     "output_type": "execute_result"
    }
   ],
   "source": [
    "angle=5\n",
    "df_selected_angle=df_t_u.loc[df_t_u['Angle_LAB'] == angle]\n",
    "Yield_runtorun=df_selected_angle['Area']/df_selected_angle['(BCI*LTR)_Summed']\n",
    "Yield_unnorm=df_t_si.loc[df_t['Angle_LAB'] == angle]['Area']/df_t_si.loc[df_t['Angle_LAB'] == angle]['(BCI*LTR)_Summed']\n",
    "Yield_unnorm=Yield_unnorm.values\n",
    "np.sqrt(sum(((Yield_runtorun-Yield_unnorm)/Yield_unnorm)**2*df_selected_angle['(BCI*LTR)_Summed']/df_t_si.loc[df_t['Angle_LAB'] == angle]['(BCI*LTR)_Summed'].values))\n",
    "\n",
    "# uncertainty_runtorun.append(np.sqrt(sum(((df_selected_angle['Area']-Yield_unnorm)/Yield_unnorm*df_selected_angle['(BCI*LTR)_Summed'])**2))/sum(df_selected_angle['(BCI*LTR)_Summed']))"
   ]
  },
  {
   "cell_type": "code",
   "execution_count": 69,
   "id": "cb55fa87",
   "metadata": {},
   "outputs": [
    {
     "data": {
      "text/plain": [
       "[15    0.054262\n",
       " 16    0.093246\n",
       " 17    0.076628\n",
       " 18    0.036987\n",
       " 19    0.056828\n",
       " 20    0.086526\n",
       " dtype: float64]"
      ]
     },
     "execution_count": 69,
     "metadata": {},
     "output_type": "execute_result"
    }
   ],
   "source": [
    "df_t_u=pd.read_csv(path_specdata+'/'+'Si_transfer_RuntoRun.txt',sep='\\t')\n",
    "# print(df_t_u)\n",
    "uncertainty_runtorun=[]\n",
    "uncertainty_runtorun_runs=[]\n",
    "# for angle in df_t['Angle_LAB']:\n",
    "#     df_selected_angle=df_t_u.loc[df_t_u['Angle_LAB'] == angle]\n",
    "#     Yield_unnorm=weighted_average(df_selected_angle['Area'],df_selected_angle['(BCI*LTR)_Summed'])\n",
    "#     uncertainty_runtorun.append(np.sqrt(sum(((df_selected_angle['Area']-Yield_unnorm)/Yield_unnorm*df_selected_angle['(BCI*LTR)_Summed'])**2))/sum(df_selected_angle['(BCI*LTR)_Summed']))\n",
    "#     print(uncertainty_runtorun[-1])\n",
    "angle=13\n",
    "df_selected_angle=df_t_u.loc[df_t_u['Angle_LAB'] == angle]\n",
    "Yield_runtorun=df_selected_angle['Area']/df_selected_angle['(BCI*LTR)_Summed']\n",
    "Yield_unnorm=df_t_si.loc[df_t['Angle_LAB'] == angle]['Area']/df_t_si.loc[df_t['Angle_LAB'] == angle]['(BCI*LTR)_Summed']\n",
    "Yield_unnorm=Yield_unnorm.values\n",
    "uncertainty_runtorun.append(np.sqrt(sum(((Yield_runtorun-Yield_unnorm)/Yield_unnorm)**2*df_selected_angle['(BCI*LTR)_Summed']/df_t_si.loc[df_t['Angle_LAB'] == angle]['(BCI*LTR)_Summed'].values)))\n",
    "uncertainty_runtorun_runs.append(np.sqrt(((Yield_runtorun-Yield_unnorm)/Yield_unnorm)**2*df_selected_angle['(BCI*LTR)_Summed']/df_t_si.loc[df_t['Angle_LAB'] == angle]['(BCI*LTR)_Summed'].values))\n",
    "uncertainty_runtorun_runs"
   ]
  },
  {
   "cell_type": "code",
   "execution_count": null,
   "id": "77cb29ef",
   "metadata": {},
   "outputs": [],
   "source": []
  },
  {
   "cell_type": "code",
   "execution_count": null,
   "id": "f0ad6bf4",
   "metadata": {},
   "outputs": [],
   "source": []
  },
  {
   "cell_type": "code",
   "execution_count": null,
   "id": "4c8b1eb0",
   "metadata": {},
   "outputs": [],
   "source": []
  }
 ],
 "metadata": {
  "kernelspec": {
   "display_name": "Python 3 (ipykernel)",
   "language": "python",
   "name": "python3"
  },
  "language_info": {
   "codemirror_mode": {
    "name": "ipython",
    "version": 3
   },
   "file_extension": ".py",
   "mimetype": "text/x-python",
   "name": "python",
   "nbconvert_exporter": "python",
   "pygments_lexer": "ipython3",
   "version": "3.9.12"
  }
 },
 "nbformat": 4,
 "nbformat_minor": 5
}
