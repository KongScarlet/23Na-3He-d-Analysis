{
 "cells": [
  {
   "cell_type": "markdown",
   "id": "175b0d72",
   "metadata": {},
   "source": [
    "# 23Na-3He-ES Analysis --Kaixin, updated on 03/02/2022"
   ]
  },
  {
   "cell_type": "markdown",
   "id": "228d2254",
   "metadata": {},
   "source": [
    "## Import packages"
   ]
  },
  {
   "cell_type": "code",
   "execution_count": 1,
   "id": "fee59a8b",
   "metadata": {},
   "outputs": [],
   "source": [
    "import pandas as pd\n",
    "import matplotlib.pyplot as plt\n",
    "import numpy as np\n",
    "from scipy import stats,interpolate\n",
    "import os\n",
    "from KaixinSpecTools import *\n"
   ]
  },
  {
   "cell_type": "markdown",
   "id": "4a6811c4",
   "metadata": {},
   "source": [
    "## Set file path"
   ]
  },
  {
   "cell_type": "code",
   "execution_count": 2,
   "id": "8d20e655",
   "metadata": {},
   "outputs": [],
   "source": [
    "path_fresco='/home/kaixin/Documents/23NaHe3d_Analysis/' # directory to run fresco and generate fort.201, fort.202 files\n",
    "path_specdata=path_fresco+'/SpecData' # directory where the datafiles are stored\n",
    "path_fresco_input=path_fresco+'/FrescoInputFiles' # directory for fresco input files\n",
    "path_fresco_data=path_fresco+'/FrescoInputData' # directory for yield data used for fitting optical model parameters in fresco input. Not using now."
   ]
  },
  {
   "cell_type": "markdown",
   "id": "477fa5cf",
   "metadata": {},
   "source": [
    "## Define useful constants and functions"
   ]
  },
  {
   "cell_type": "code",
   "execution_count": 3,
   "id": "29a32e3f",
   "metadata": {},
   "outputs": [],
   "source": [
    "Ep=21\n",
    "m_3He=3.01602932008\n",
    "m_23Na=22.98976928197\n",
    "# From the AME 2012 atomic mass evaluation \n",
    "\n",
    "def angle_lab_to_CM(theta_lab,gamma):\n",
    "    rad=theta_lab*np.pi/180\n",
    "    theta_CM=np.arccos(-gamma*np.sin(rad)**2+np.cos(rad)*np.sqrt(1-gamma**2*np.sin(rad)**2))\n",
    "    theta_CM=theta_CM*180/np.pi\n",
    "    return theta_CM\n",
    "def layout(l1,l2):\n",
    "    for i in range(0,len(l1)):\n",
    "        print(l1[i],'\\t',l2[i])\n",
    "def weighted_average(l1,l2):\n",
    "    return sum(l1*l2) / sum(l2)\n",
    "def makefigure(title,xlabel,ylabel):\n",
    "    plt.figure(figsize=(9.5, 6.5))\n",
    "    plt.rcParams['font.size'] = '16'\n",
    "    plt.title(title)\n",
    "    plt.xlabel(xlabel, fontsize=20.0)\n",
    "    plt.ylabel(ylabel, fontsize=20.0)\n",
    "def read_cross(filename):\n",
    "    cross = pd.read_csv(filename, sep='\\s+', skiprows=10, header=None)\n",
    "    theta = cross[cross.columns[0]].tolist()[:-1]\n",
    "    sigma = cross[cross.columns[1]].tolist()[:-1]\n",
    "    theta=[float(x) for x in theta]\n",
    "    sigma=[float(x) for x in sigma]\n",
    "    return [theta, sigma]\n",
    "def filerun(filepath):\n",
    "    command = 'fresco' + '<' + filepath + '> /dev/null'\n",
    "    os.system(command)\n",
    "    print(command)"
   ]
  },
  {
   "cell_type": "markdown",
   "id": "00e9113f",
   "metadata": {},
   "source": [
    "## Import data for elastic scattering (ES) and silicon detector"
   ]
  },
  {
   "cell_type": "markdown",
   "id": "e417126b",
   "metadata": {},
   "source": [
    "### Elastic scattering data"
   ]
  },
  {
   "cell_type": "code",
   "execution_count": 4,
   "id": "c10478c3",
   "metadata": {},
   "outputs": [
    {
     "data": {
      "text/html": [
       "<style type=\"text/css\">\n",
       "</style>\n",
       "<table id=\"T_d36d0\">\n",
       "  <thead>\n",
       "    <tr>\n",
       "      <th class=\"blank level0\" >&nbsp;</th>\n",
       "      <th id=\"T_d36d0_level0_col0\" class=\"col_heading level0 col0\" >run#</th>\n",
       "      <th id=\"T_d36d0_level0_col1\" class=\"col_heading level0 col1\" >Angle_LAB</th>\n",
       "      <th id=\"T_d36d0_level0_col2\" class=\"col_heading level0 col2\" >Centroid</th>\n",
       "      <th id=\"T_d36d0_level0_col3\" class=\"col_heading level0 col3\" >+/-</th>\n",
       "      <th id=\"T_d36d0_level0_col4\" class=\"col_heading level0 col4\" >Area</th>\n",
       "      <th id=\"T_d36d0_level0_col5\" class=\"col_heading level0 col5\" >+/-.1</th>\n",
       "      <th id=\"T_d36d0_level0_col6\" class=\"col_heading level0 col6\" >BCI_Summed</th>\n",
       "      <th id=\"T_d36d0_level0_col7\" class=\"col_heading level0 col7\" >LiveTimeRatio</th>\n",
       "      <th id=\"T_d36d0_level0_col8\" class=\"col_heading level0 col8\" >(BCI*LTR)_Summed</th>\n",
       "    </tr>\n",
       "  </thead>\n",
       "  <tbody>\n",
       "    <tr>\n",
       "      <th id=\"T_d36d0_level0_row0\" class=\"row_heading level0 row0\" >0</th>\n",
       "      <td id=\"T_d36d0_row0_col0\" class=\"data row0 col0\" >109</td>\n",
       "      <td id=\"T_d36d0_row0_col1\" class=\"data row0 col1\" >15</td>\n",
       "      <td id=\"T_d36d0_row0_col2\" class=\"data row0 col2\" >1596.370000</td>\n",
       "      <td id=\"T_d36d0_row0_col3\" class=\"data row0 col3\" >0.200000</td>\n",
       "      <td id=\"T_d36d0_row0_col4\" class=\"data row0 col4\" >45305.900000</td>\n",
       "      <td id=\"T_d36d0_row0_col5\" class=\"data row0 col5\" >1147.290000</td>\n",
       "      <td id=\"T_d36d0_row0_col6\" class=\"data row0 col6\" >261418</td>\n",
       "      <td id=\"T_d36d0_row0_col7\" class=\"data row0 col7\" >0.944119</td>\n",
       "      <td id=\"T_d36d0_row0_col8\" class=\"data row0 col8\" >246809.597600</td>\n",
       "    </tr>\n",
       "    <tr>\n",
       "      <th id=\"T_d36d0_level0_row1\" class=\"row_heading level0 row1\" >1</th>\n",
       "      <td id=\"T_d36d0_row1_col0\" class=\"data row1 col0\" >110</td>\n",
       "      <td id=\"T_d36d0_row1_col1\" class=\"data row1 col1\" >20</td>\n",
       "      <td id=\"T_d36d0_row1_col2\" class=\"data row1 col2\" >1544.520000</td>\n",
       "      <td id=\"T_d36d0_row1_col3\" class=\"data row1 col3\" >0.151037</td>\n",
       "      <td id=\"T_d36d0_row1_col4\" class=\"data row1 col4\" >5753.350000</td>\n",
       "      <td id=\"T_d36d0_row1_col5\" class=\"data row1 col5\" >125.787000</td>\n",
       "      <td id=\"T_d36d0_row1_col6\" class=\"data row1 col6\" >254626</td>\n",
       "      <td id=\"T_d36d0_row1_col7\" class=\"data row1 col7\" >0.984811</td>\n",
       "      <td id=\"T_d36d0_row1_col8\" class=\"data row1 col8\" >250758.370900</td>\n",
       "    </tr>\n",
       "    <tr>\n",
       "      <th id=\"T_d36d0_level0_row2\" class=\"row_heading level0 row2\" >2</th>\n",
       "      <td id=\"T_d36d0_row2_col0\" class=\"data row2 col0\" >111</td>\n",
       "      <td id=\"T_d36d0_row2_col1\" class=\"data row2 col1\" >25</td>\n",
       "      <td id=\"T_d36d0_row2_col2\" class=\"data row2 col2\" >1471.970000</td>\n",
       "      <td id=\"T_d36d0_row2_col3\" class=\"data row2 col3\" >0.102670</td>\n",
       "      <td id=\"T_d36d0_row2_col4\" class=\"data row2 col4\" >1942.260000</td>\n",
       "      <td id=\"T_d36d0_row2_col5\" class=\"data row2 col5\" >37.155300</td>\n",
       "      <td id=\"T_d36d0_row2_col6\" class=\"data row2 col6\" >291104</td>\n",
       "      <td id=\"T_d36d0_row2_col7\" class=\"data row2 col7\" >0.993304</td>\n",
       "      <td id=\"T_d36d0_row2_col8\" class=\"data row2 col8\" >289154.860400</td>\n",
       "    </tr>\n",
       "    <tr>\n",
       "      <th id=\"T_d36d0_level0_row3\" class=\"row_heading level0 row3\" >3</th>\n",
       "      <td id=\"T_d36d0_row3_col0\" class=\"data row3 col0\" >112-113</td>\n",
       "      <td id=\"T_d36d0_row3_col1\" class=\"data row3 col1\" >30</td>\n",
       "      <td id=\"T_d36d0_row3_col2\" class=\"data row3 col2\" >1375.630000</td>\n",
       "      <td id=\"T_d36d0_row3_col3\" class=\"data row3 col3\" >0.138720</td>\n",
       "      <td id=\"T_d36d0_row3_col4\" class=\"data row3 col4\" >6459.280000</td>\n",
       "      <td id=\"T_d36d0_row3_col5\" class=\"data row3 col5\" >87.038500</td>\n",
       "      <td id=\"T_d36d0_row3_col6\" class=\"data row3 col6\" >1780977</td>\n",
       "      <td id=\"T_d36d0_row3_col7\" class=\"data row3 col7\" >0.967280</td>\n",
       "      <td id=\"T_d36d0_row3_col8\" class=\"data row3 col8\" >1722704.257000</td>\n",
       "    </tr>\n",
       "    <tr>\n",
       "      <th id=\"T_d36d0_level0_row4\" class=\"row_heading level0 row4\" >4</th>\n",
       "      <td id=\"T_d36d0_row4_col0\" class=\"data row4 col0\" >114-115</td>\n",
       "      <td id=\"T_d36d0_row4_col1\" class=\"data row4 col1\" >35</td>\n",
       "      <td id=\"T_d36d0_row4_col2\" class=\"data row4 col2\" >1269.140000</td>\n",
       "      <td id=\"T_d36d0_row4_col3\" class=\"data row4 col3\" >0.097212</td>\n",
       "      <td id=\"T_d36d0_row4_col4\" class=\"data row4 col4\" >7081.770000</td>\n",
       "      <td id=\"T_d36d0_row4_col5\" class=\"data row4 col5\" >116.414000</td>\n",
       "      <td id=\"T_d36d0_row4_col6\" class=\"data row4 col6\" >1789879</td>\n",
       "      <td id=\"T_d36d0_row4_col7\" class=\"data row4 col7\" >0.959048</td>\n",
       "      <td id=\"T_d36d0_row4_col8\" class=\"data row4 col8\" >1716579.498000</td>\n",
       "    </tr>\n",
       "    <tr>\n",
       "      <th id=\"T_d36d0_level0_row5\" class=\"row_heading level0 row5\" >5</th>\n",
       "      <td id=\"T_d36d0_row5_col0\" class=\"data row5 col0\" >116</td>\n",
       "      <td id=\"T_d36d0_row5_col1\" class=\"data row5 col1\" >40</td>\n",
       "      <td id=\"T_d36d0_row5_col2\" class=\"data row5 col2\" >1145.180000</td>\n",
       "      <td id=\"T_d36d0_row5_col3\" class=\"data row5 col3\" >0.186093</td>\n",
       "      <td id=\"T_d36d0_row5_col4\" class=\"data row5 col4\" >1708.080000</td>\n",
       "      <td id=\"T_d36d0_row5_col5\" class=\"data row5 col5\" >50.460800</td>\n",
       "      <td id=\"T_d36d0_row5_col6\" class=\"data row5 col6\" >2001086</td>\n",
       "      <td id=\"T_d36d0_row5_col7\" class=\"data row5 col7\" >0.984266</td>\n",
       "      <td id=\"T_d36d0_row5_col8\" class=\"data row5 col8\" >1969601.504000</td>\n",
       "    </tr>\n",
       "    <tr>\n",
       "      <th id=\"T_d36d0_level0_row6\" class=\"row_heading level0 row6\" >6</th>\n",
       "      <td id=\"T_d36d0_row6_col0\" class=\"data row6 col0\" >118-120</td>\n",
       "      <td id=\"T_d36d0_row6_col1\" class=\"data row6 col1\" >45</td>\n",
       "      <td id=\"T_d36d0_row6_col2\" class=\"data row6 col2\" >2193.820000</td>\n",
       "      <td id=\"T_d36d0_row6_col3\" class=\"data row6 col3\" >0.168256</td>\n",
       "      <td id=\"T_d36d0_row6_col4\" class=\"data row6 col4\" >3345.500000</td>\n",
       "      <td id=\"T_d36d0_row6_col5\" class=\"data row6 col5\" >93.685500</td>\n",
       "      <td id=\"T_d36d0_row6_col6\" class=\"data row6 col6\" >5836894</td>\n",
       "      <td id=\"T_d36d0_row6_col7\" class=\"data row6 col7\" >0.981952</td>\n",
       "      <td id=\"T_d36d0_row6_col8\" class=\"data row6 col8\" >5731552.088000</td>\n",
       "    </tr>\n",
       "    <tr>\n",
       "      <th id=\"T_d36d0_level0_row7\" class=\"row_heading level0 row7\" >7</th>\n",
       "      <td id=\"T_d36d0_row7_col0\" class=\"data row7 col0\" >121</td>\n",
       "      <td id=\"T_d36d0_row7_col1\" class=\"data row7 col1\" >50</td>\n",
       "      <td id=\"T_d36d0_row7_col2\" class=\"data row7 col2\" >2038.000000</td>\n",
       "      <td id=\"T_d36d0_row7_col3\" class=\"data row7 col3\" >0.218201</td>\n",
       "      <td id=\"T_d36d0_row7_col4\" class=\"data row7 col4\" >1117.280000</td>\n",
       "      <td id=\"T_d36d0_row7_col5\" class=\"data row7 col5\" >41.053000</td>\n",
       "      <td id=\"T_d36d0_row7_col6\" class=\"data row7 col6\" >1871247</td>\n",
       "      <td id=\"T_d36d0_row7_col7\" class=\"data row7 col7\" >0.980538</td>\n",
       "      <td id=\"T_d36d0_row7_col8\" class=\"data row7 col8\" >1834828.107000</td>\n",
       "    </tr>\n",
       "    <tr>\n",
       "      <th id=\"T_d36d0_level0_row8\" class=\"row_heading level0 row8\" >8</th>\n",
       "      <td id=\"T_d36d0_row8_col0\" class=\"data row8 col0\" >122</td>\n",
       "      <td id=\"T_d36d0_row8_col1\" class=\"data row8 col1\" >55</td>\n",
       "      <td id=\"T_d36d0_row8_col2\" class=\"data row8 col2\" >1865.420000</td>\n",
       "      <td id=\"T_d36d0_row8_col3\" class=\"data row8 col3\" >0.229584</td>\n",
       "      <td id=\"T_d36d0_row8_col4\" class=\"data row8 col4\" >906.382000</td>\n",
       "      <td id=\"T_d36d0_row8_col5\" class=\"data row8 col5\" >29.930900</td>\n",
       "      <td id=\"T_d36d0_row8_col6\" class=\"data row8 col6\" >3804344</td>\n",
       "      <td id=\"T_d36d0_row8_col7\" class=\"data row8 col7\" >0.978250</td>\n",
       "      <td id=\"T_d36d0_row8_col8\" class=\"data row8 col8\" >3721599.571000</td>\n",
       "    </tr>\n",
       "    <tr>\n",
       "      <th id=\"T_d36d0_level0_row9\" class=\"row_heading level0 row9\" >9</th>\n",
       "      <td id=\"T_d36d0_row9_col0\" class=\"data row9 col0\" >123</td>\n",
       "      <td id=\"T_d36d0_row9_col1\" class=\"data row9 col1\" >59</td>\n",
       "      <td id=\"T_d36d0_row9_col2\" class=\"data row9 col2\" >1718.930000</td>\n",
       "      <td id=\"T_d36d0_row9_col3\" class=\"data row9 col3\" >0.364018</td>\n",
       "      <td id=\"T_d36d0_row9_col4\" class=\"data row9 col4\" >362.718000</td>\n",
       "      <td id=\"T_d36d0_row9_col5\" class=\"data row9 col5\" >18.226100</td>\n",
       "      <td id=\"T_d36d0_row9_col6\" class=\"data row9 col6\" >6297424</td>\n",
       "      <td id=\"T_d36d0_row9_col7\" class=\"data row9 col7\" >0.983354</td>\n",
       "      <td id=\"T_d36d0_row9_col8\" class=\"data row9 col8\" >6192595.284000</td>\n",
       "    </tr>\n",
       "  </tbody>\n",
       "</table>\n"
      ],
      "text/plain": [
       "<pandas.io.formats.style.Styler at 0x7f39d5b22c40>"
      ]
     },
     "execution_count": 4,
     "metadata": {},
     "output_type": "execute_result"
    }
   ],
   "source": [
    "os.chdir(path_specdata)\n",
    "df_es=pd.read_csv(path_specdata+'/ES.txt',sep='\\t')\n",
    "df_es.style"
   ]
  },
  {
   "cell_type": "markdown",
   "id": "e8409180",
   "metadata": {},
   "source": [
    "### Si detector data for ES"
   ]
  },
  {
   "cell_type": "code",
   "execution_count": 5,
   "id": "9d4f4c2b",
   "metadata": {},
   "outputs": [
    {
     "data": {
      "text/html": [
       "<style type=\"text/css\">\n",
       "</style>\n",
       "<table id=\"T_19e11\">\n",
       "  <thead>\n",
       "    <tr>\n",
       "      <th class=\"blank level0\" >&nbsp;</th>\n",
       "      <th id=\"T_19e11_level0_col0\" class=\"col_heading level0 col0\" >run#</th>\n",
       "      <th id=\"T_19e11_level0_col1\" class=\"col_heading level0 col1\" >Angle_LAB</th>\n",
       "      <th id=\"T_19e11_level0_col2\" class=\"col_heading level0 col2\" >Centroid</th>\n",
       "      <th id=\"T_19e11_level0_col3\" class=\"col_heading level0 col3\" >+/-</th>\n",
       "      <th id=\"T_19e11_level0_col4\" class=\"col_heading level0 col4\" >Area</th>\n",
       "      <th id=\"T_19e11_level0_col5\" class=\"col_heading level0 col5\" >+/-.1</th>\n",
       "      <th id=\"T_19e11_level0_col6\" class=\"col_heading level0 col6\" >BCI_Summed</th>\n",
       "      <th id=\"T_19e11_level0_col7\" class=\"col_heading level0 col7\" >LiveTimeRatio</th>\n",
       "      <th id=\"T_19e11_level0_col8\" class=\"col_heading level0 col8\" >(BCI*LTR)_Summed</th>\n",
       "      <th id=\"T_19e11_level0_col9\" class=\"col_heading level0 col9\" >Si Yield</th>\n",
       "    </tr>\n",
       "  </thead>\n",
       "  <tbody>\n",
       "    <tr>\n",
       "      <th id=\"T_19e11_level0_row0\" class=\"row_heading level0 row0\" >0</th>\n",
       "      <td id=\"T_19e11_row0_col0\" class=\"data row0 col0\" >109</td>\n",
       "      <td id=\"T_19e11_row0_col1\" class=\"data row0 col1\" >15</td>\n",
       "      <td id=\"T_19e11_row0_col2\" class=\"data row0 col2\" >2101.150000</td>\n",
       "      <td id=\"T_19e11_row0_col3\" class=\"data row0 col3\" >0.421237</td>\n",
       "      <td id=\"T_19e11_row0_col4\" class=\"data row0 col4\" >802.737000</td>\n",
       "      <td id=\"T_19e11_row0_col5\" class=\"data row0 col5\" >33.343300</td>\n",
       "      <td id=\"T_19e11_row0_col6\" class=\"data row0 col6\" >261418</td>\n",
       "      <td id=\"T_19e11_row0_col7\" class=\"data row0 col7\" >0.944119</td>\n",
       "      <td id=\"T_19e11_row0_col8\" class=\"data row0 col8\" >246809.597600</td>\n",
       "      <td id=\"T_19e11_row0_col9\" class=\"data row0 col9\" >0.000000</td>\n",
       "    </tr>\n",
       "    <tr>\n",
       "      <th id=\"T_19e11_level0_row1\" class=\"row_heading level0 row1\" >1</th>\n",
       "      <td id=\"T_19e11_row1_col0\" class=\"data row1 col0\" >110</td>\n",
       "      <td id=\"T_19e11_row1_col1\" class=\"data row1 col1\" >20</td>\n",
       "      <td id=\"T_19e11_row1_col2\" class=\"data row1 col2\" >2101.790000</td>\n",
       "      <td id=\"T_19e11_row1_col3\" class=\"data row1 col3\" >0.456467</td>\n",
       "      <td id=\"T_19e11_row1_col4\" class=\"data row1 col4\" >789.434000</td>\n",
       "      <td id=\"T_19e11_row1_col5\" class=\"data row1 col5\" >38.971500</td>\n",
       "      <td id=\"T_19e11_row1_col6\" class=\"data row1 col6\" >254626</td>\n",
       "      <td id=\"T_19e11_row1_col7\" class=\"data row1 col7\" >0.984811</td>\n",
       "      <td id=\"T_19e11_row1_col8\" class=\"data row1 col8\" >250758.370900</td>\n",
       "      <td id=\"T_19e11_row1_col9\" class=\"data row1 col9\" >0.000000</td>\n",
       "    </tr>\n",
       "    <tr>\n",
       "      <th id=\"T_19e11_level0_row2\" class=\"row_heading level0 row2\" >2</th>\n",
       "      <td id=\"T_19e11_row2_col0\" class=\"data row2 col0\" >111</td>\n",
       "      <td id=\"T_19e11_row2_col1\" class=\"data row2 col1\" >25</td>\n",
       "      <td id=\"T_19e11_row2_col2\" class=\"data row2 col2\" >2103.480000</td>\n",
       "      <td id=\"T_19e11_row2_col3\" class=\"data row2 col3\" >0.309818</td>\n",
       "      <td id=\"T_19e11_row2_col4\" class=\"data row2 col4\" >976.390000</td>\n",
       "      <td id=\"T_19e11_row2_col5\" class=\"data row2 col5\" >33.211100</td>\n",
       "      <td id=\"T_19e11_row2_col6\" class=\"data row2 col6\" >291104</td>\n",
       "      <td id=\"T_19e11_row2_col7\" class=\"data row2 col7\" >0.993304</td>\n",
       "      <td id=\"T_19e11_row2_col8\" class=\"data row2 col8\" >289154.860400</td>\n",
       "      <td id=\"T_19e11_row2_col9\" class=\"data row2 col9\" >0.000000</td>\n",
       "    </tr>\n",
       "    <tr>\n",
       "      <th id=\"T_19e11_level0_row3\" class=\"row_heading level0 row3\" >3</th>\n",
       "      <td id=\"T_19e11_row3_col0\" class=\"data row3 col0\" >112-113</td>\n",
       "      <td id=\"T_19e11_row3_col1\" class=\"data row3 col1\" >30</td>\n",
       "      <td id=\"T_19e11_row3_col2\" class=\"data row3 col2\" >2104.460000</td>\n",
       "      <td id=\"T_19e11_row3_col3\" class=\"data row3 col3\" >0.224646</td>\n",
       "      <td id=\"T_19e11_row3_col4\" class=\"data row3 col4\" >5442.240000</td>\n",
       "      <td id=\"T_19e11_row3_col5\" class=\"data row3 col5\" >102.179000</td>\n",
       "      <td id=\"T_19e11_row3_col6\" class=\"data row3 col6\" >1780977</td>\n",
       "      <td id=\"T_19e11_row3_col7\" class=\"data row3 col7\" >0.967280</td>\n",
       "      <td id=\"T_19e11_row3_col8\" class=\"data row3 col8\" >1722704.257000</td>\n",
       "      <td id=\"T_19e11_row3_col9\" class=\"data row3 col9\" >0.000000</td>\n",
       "    </tr>\n",
       "    <tr>\n",
       "      <th id=\"T_19e11_level0_row4\" class=\"row_heading level0 row4\" >4</th>\n",
       "      <td id=\"T_19e11_row4_col0\" class=\"data row4 col0\" >114-115</td>\n",
       "      <td id=\"T_19e11_row4_col1\" class=\"data row4 col1\" >35</td>\n",
       "      <td id=\"T_19e11_row4_col2\" class=\"data row4 col2\" >2103.540000</td>\n",
       "      <td id=\"T_19e11_row4_col3\" class=\"data row4 col3\" >0.188037</td>\n",
       "      <td id=\"T_19e11_row4_col4\" class=\"data row4 col4\" >6881.250000</td>\n",
       "      <td id=\"T_19e11_row4_col5\" class=\"data row4 col5\" >144.795000</td>\n",
       "      <td id=\"T_19e11_row4_col6\" class=\"data row4 col6\" >1789879</td>\n",
       "      <td id=\"T_19e11_row4_col7\" class=\"data row4 col7\" >0.959048</td>\n",
       "      <td id=\"T_19e11_row4_col8\" class=\"data row4 col8\" >1716579.498000</td>\n",
       "      <td id=\"T_19e11_row4_col9\" class=\"data row4 col9\" >0.000000</td>\n",
       "    </tr>\n",
       "    <tr>\n",
       "      <th id=\"T_19e11_level0_row5\" class=\"row_heading level0 row5\" >5</th>\n",
       "      <td id=\"T_19e11_row5_col0\" class=\"data row5 col0\" >116</td>\n",
       "      <td id=\"T_19e11_row5_col1\" class=\"data row5 col1\" >40</td>\n",
       "      <td id=\"T_19e11_row5_col2\" class=\"data row5 col2\" >2102.280000</td>\n",
       "      <td id=\"T_19e11_row5_col3\" class=\"data row5 col3\" >0.206655</td>\n",
       "      <td id=\"T_19e11_row5_col4\" class=\"data row5 col4\" >5803.450000</td>\n",
       "      <td id=\"T_19e11_row5_col5\" class=\"data row5 col5\" >120.396000</td>\n",
       "      <td id=\"T_19e11_row5_col6\" class=\"data row5 col6\" >2001086</td>\n",
       "      <td id=\"T_19e11_row5_col7\" class=\"data row5 col7\" >0.984266</td>\n",
       "      <td id=\"T_19e11_row5_col8\" class=\"data row5 col8\" >1969601.504000</td>\n",
       "      <td id=\"T_19e11_row5_col9\" class=\"data row5 col9\" >0.000000</td>\n",
       "    </tr>\n",
       "    <tr>\n",
       "      <th id=\"T_19e11_level0_row6\" class=\"row_heading level0 row6\" >6</th>\n",
       "      <td id=\"T_19e11_row6_col0\" class=\"data row6 col0\" >118-120</td>\n",
       "      <td id=\"T_19e11_row6_col1\" class=\"data row6 col1\" >45</td>\n",
       "      <td id=\"T_19e11_row6_col2\" class=\"data row6 col2\" >2100.350000</td>\n",
       "      <td id=\"T_19e11_row6_col3\" class=\"data row6 col3\" >0.164515</td>\n",
       "      <td id=\"T_19e11_row6_col4\" class=\"data row6 col4\" >21491.600000</td>\n",
       "      <td id=\"T_19e11_row6_col5\" class=\"data row6 col5\" >348.561000</td>\n",
       "      <td id=\"T_19e11_row6_col6\" class=\"data row6 col6\" >5836894</td>\n",
       "      <td id=\"T_19e11_row6_col7\" class=\"data row6 col7\" >0.981952</td>\n",
       "      <td id=\"T_19e11_row6_col8\" class=\"data row6 col8\" >5731552.088000</td>\n",
       "      <td id=\"T_19e11_row6_col9\" class=\"data row6 col9\" >0.000000</td>\n",
       "    </tr>\n",
       "    <tr>\n",
       "      <th id=\"T_19e11_level0_row7\" class=\"row_heading level0 row7\" >7</th>\n",
       "      <td id=\"T_19e11_row7_col0\" class=\"data row7 col0\" >121</td>\n",
       "      <td id=\"T_19e11_row7_col1\" class=\"data row7 col1\" >50</td>\n",
       "      <td id=\"T_19e11_row7_col2\" class=\"data row7 col2\" >2101.200000</td>\n",
       "      <td id=\"T_19e11_row7_col3\" class=\"data row7 col3\" >0.203589</td>\n",
       "      <td id=\"T_19e11_row7_col4\" class=\"data row7 col4\" >8369.760000</td>\n",
       "      <td id=\"T_19e11_row7_col5\" class=\"data row7 col5\" >167.172000</td>\n",
       "      <td id=\"T_19e11_row7_col6\" class=\"data row7 col6\" >1871247</td>\n",
       "      <td id=\"T_19e11_row7_col7\" class=\"data row7 col7\" >0.980538</td>\n",
       "      <td id=\"T_19e11_row7_col8\" class=\"data row7 col8\" >1834828.107000</td>\n",
       "      <td id=\"T_19e11_row7_col9\" class=\"data row7 col9\" >0.000000</td>\n",
       "    </tr>\n",
       "    <tr>\n",
       "      <th id=\"T_19e11_level0_row8\" class=\"row_heading level0 row8\" >8</th>\n",
       "      <td id=\"T_19e11_row8_col0\" class=\"data row8 col0\" >122</td>\n",
       "      <td id=\"T_19e11_row8_col1\" class=\"data row8 col1\" >55</td>\n",
       "      <td id=\"T_19e11_row8_col2\" class=\"data row8 col2\" >2101.440000</td>\n",
       "      <td id=\"T_19e11_row8_col3\" class=\"data row8 col3\" >0.150834</td>\n",
       "      <td id=\"T_19e11_row8_col4\" class=\"data row8 col4\" >16539.400000</td>\n",
       "      <td id=\"T_19e11_row8_col5\" class=\"data row8 col5\" >252.778000</td>\n",
       "      <td id=\"T_19e11_row8_col6\" class=\"data row8 col6\" >3804344</td>\n",
       "      <td id=\"T_19e11_row8_col7\" class=\"data row8 col7\" >0.978250</td>\n",
       "      <td id=\"T_19e11_row8_col8\" class=\"data row8 col8\" >3721599.571000</td>\n",
       "      <td id=\"T_19e11_row8_col9\" class=\"data row8 col9\" >0.000000</td>\n",
       "    </tr>\n",
       "    <tr>\n",
       "      <th id=\"T_19e11_level0_row9\" class=\"row_heading level0 row9\" >9</th>\n",
       "      <td id=\"T_19e11_row9_col0\" class=\"data row9 col0\" >123</td>\n",
       "      <td id=\"T_19e11_row9_col1\" class=\"data row9 col1\" >59</td>\n",
       "      <td id=\"T_19e11_row9_col2\" class=\"data row9 col2\" >2101.550000</td>\n",
       "      <td id=\"T_19e11_row9_col3\" class=\"data row9 col3\" >0.154213</td>\n",
       "      <td id=\"T_19e11_row9_col4\" class=\"data row9 col4\" >28279.800000</td>\n",
       "      <td id=\"T_19e11_row9_col5\" class=\"data row9 col5\" >427.785000</td>\n",
       "      <td id=\"T_19e11_row9_col6\" class=\"data row9 col6\" >6297424</td>\n",
       "      <td id=\"T_19e11_row9_col7\" class=\"data row9 col7\" >0.983354</td>\n",
       "      <td id=\"T_19e11_row9_col8\" class=\"data row9 col8\" >6192595.284000</td>\n",
       "      <td id=\"T_19e11_row9_col9\" class=\"data row9 col9\" >0.000000</td>\n",
       "    </tr>\n",
       "  </tbody>\n",
       "</table>\n"
      ],
      "text/plain": [
       "<pandas.io.formats.style.Styler at 0x7f39d5b22ca0>"
      ]
     },
     "execution_count": 5,
     "metadata": {},
     "output_type": "execute_result"
    }
   ],
   "source": [
    "df_es_si=pd.read_csv(path_specdata+'/'+'Si_ES.txt',sep='\\t')\n",
    "df_es_si.style"
   ]
  },
  {
   "cell_type": "markdown",
   "id": "49c86ee2",
   "metadata": {},
   "source": [
    "## Lab to CM angle transformation and yield correction"
   ]
  },
  {
   "cell_type": "markdown",
   "id": "ab11cea9",
   "metadata": {},
   "source": [
    "The angles are can be converted to CM frame with JRelKin. However, I put it here in python code to facilitate calculations. I derived an equation from the book $\\textbf{Nuclear Physics of Stars}\\space (2015)$ by Christian ILiadis:\n",
    "$$\\cos \\theta_{lab}=\\frac{\\gamma+\\cos \\theta_{CM}}{\\sqrt{1+\\gamma^{2}+2 \\gamma \\cos \\theta_{CM}}}$$\n",
    "\n",
    "\n",
    "$$\\Longrightarrow \\cos\\theta_{CM}=-\\gamma\\sin^2\\theta_{lab}+\\cos\\theta_{lab}\\sqrt{1-\\gamma^2\\sin^2\\theta_{lab}}$$\n",
    "$\\space\\gamma=m_{3He}/m_{23Na}$ for elastic scattering."
   ]
  },
  {
   "cell_type": "code",
   "execution_count": 6,
   "id": "9dda0e31",
   "metadata": {},
   "outputs": [
    {
     "name": "stdout",
     "output_type": "stream",
     "text": [
      "CM angles:  [16.945822830999674, 22.571704693672693, 28.178297820593805, 33.76101890119579, 39.31544490803795, 44.837345881362985, 50.3227177404472, 55.76781484705748, 61.169181948986726, 65.4566724254198]\n"
     ]
    }
   ],
   "source": [
    "gamma=m_3He/m_23Na\n",
    "Angle_CM=angle_lab_to_CM(df_es['Angle_LAB'],gamma)\n",
    "Angle_LAB=df_es['Angle_LAB']\n",
    "print('CM angles: ',[i for i in Angle_CM])"
   ]
  },
  {
   "cell_type": "markdown",
   "id": "94358108",
   "metadata": {},
   "source": [
    "Using eqn.(C.43) and (C.44) from the book, the frame correction for the yield would be: \n",
    "$$\\frac{(d Y / d \\Omega)_{\\theta-CM}}{(d Y / d \\Omega)_{\\theta-Lab}}=\\frac{d(\\cos \\theta_{Lab})}{d\\left(\\cos \\theta_{CM}\\right)}=\\frac{\\sqrt{1-\\gamma^{2} \\sin ^{2} \\theta_{Lab}}}{\\left(\\gamma \\cos \\theta_{Lab}+\\sqrt{1-\\gamma^{2} \\sin ^{2} \\theta_{Lab}}\\right)^{2}}$$\n",
    "\n",
    "Here we apply the correction for the yield instead of cross section. Note that the silicon detector was placed at 45 degree in lab frame, never changed. For elastic scattering, $\\gamma=\\frac{m_a}{m_A}$"
   ]
  },
  {
   "cell_type": "code",
   "execution_count": 7,
   "id": "0b8c0959",
   "metadata": {},
   "outputs": [
    {
     "name": "stdout",
     "output_type": "stream",
     "text": [
      "CM angle for si detector:  50.3227177404472\n",
      "0    0.889004\n",
      "1    0.892836\n",
      "2    0.897712\n",
      "3    0.903590\n",
      "4    0.910424\n",
      "5    0.918154\n",
      "6    0.926716\n",
      "7    0.936032\n",
      "8    0.946021\n",
      "9    0.954435\n",
      "Name: Angle_LAB, dtype: float64 0.926715679496491\n"
     ]
    }
   ],
   "source": [
    "Angle_si=angle_lab_to_CM(45,m_3He/m_23Na)\n",
    "print('CM angle for si detector: ',Angle_si)\n",
    "frame_corr_es=np.sqrt(1-gamma**2*np.sin(Angle_CM*np.pi/180)**2)/(gamma*np.cos(Angle_CM*np.pi/180)+np.sqrt(1-gamma**2*np.sin(Angle_CM*np.pi/180)**2)**2)\n",
    "frame_corr_si=np.sqrt(1-gamma**2*np.sin(Angle_si*np.pi/180)**2)/(gamma*np.cos(Angle_si*np.pi/180)+np.sqrt(1-gamma**2*np.sin(Angle_si*np.pi/180)**2)**2)\n",
    "print(frame_corr_es,frame_corr_si)"
   ]
  },
  {
   "cell_type": "markdown",
   "id": "36d58b81",
   "metadata": {},
   "source": [
    "My calculated CM-angles are the same as Caleb's up to four digits after the decimal point!"
   ]
  },
  {
   "cell_type": "markdown",
   "id": "ee67239d",
   "metadata": {},
   "source": [
    "## Calcultions for yields and cross sections"
   ]
  },
  {
   "cell_type": "markdown",
   "id": "8112ba34",
   "metadata": {},
   "source": [
    "### Yield"
   ]
  },
  {
   "cell_type": "markdown",
   "id": "99366379",
   "metadata": {},
   "source": [
    "From Caleb's thesis p.132:\n",
    "$$\\frac{d Y}{d \\Omega}=\\frac{N_{R}}{N_{B} \\Omega}$$\n",
    "Where\n",
    "$$N_R=\\frac{A}{t_{live}}$$\n",
    "$$ $$\n",
    "$$N_B=\\frac{BCI\\times fullscale}{eq}$$\n",
    "The geometric solid angles are $\\Omega_{FP}=1.00(4)\\space msr$ for the focal plane detector, and $\\Omega_{Si}=4.23(4)\\space msr$ for the silicon monitor detector. A is the peak area in the spectrum, \n",
    "$t_{live}$ is the livetime, the BCI full-scale was set to $10^{-10}$ C/pulse. $e$ is the elementary charge. The charge state of the beam: $q=+2$ for $^3 He$ beam in this experiment.\n",
    "$$$$\n",
    "We get the yield:\n",
    "$$ $$\n",
    "$$\\left(\\frac{d Y}{d \\Omega}\\right)_{es}=\\frac{Aeq}{\\Omega_{FP}\\times BCI\\times t_{live}\\times fullscale}=\\frac{A\\times 1.6\\times 10^{-19}\\times 2}{1\\times BCI\\times t_{live}\\times10^{-10}}=3.2\\times 10^{-9}\\times\\frac{A}{BCI\\times t_{live}}$$ $$$$\n",
    "$$\\left(\\frac{d Y}{d \\Omega}\\right)_{Si}=\\frac{Aeq}{\\Omega_{Si}\\times BCI\\times t_{live}\\times fullscale}=\\frac{A\\times 1.6\\times 10^{-19}\\times 2}{4.23\\times BCI\\times t_{live}\\times10^{-10}}=7.57\\times 10^{-10}\\times\\frac{A}{BCI\\times t_{live}}$$\n",
    "$$$$"
   ]
  },
  {
   "cell_type": "code",
   "execution_count": 16,
   "id": "6f4df58b",
   "metadata": {
    "scrolled": true
   },
   "outputs": [
    {
     "name": "stdout",
     "output_type": "stream",
     "text": [
      "ES yield in msr^-1: \n",
      "\n",
      "16.945822830999674 \t 5.22211437476371e-07\n",
      "22.571704693672693 \t 6.555218714142232e-08\n",
      "28.178297820593805 \t 1.9295839399774178e-08\n",
      "33.76101890119579 \t 1.08416375388384e-08\n",
      "39.31544490803795 \t 1.201908556925465e-08\n",
      "44.837345881362985 \t 2.547977143045326e-09\n",
      "50.3227177404472 \t 1.7309530169304522e-09\n",
      "55.76781484705748 \t 1.8239271445584582e-09\n",
      "61.169181948986726 \t 7.372799741847318e-10\n",
      "65.4566724254198 \t 1.7889280808014502e-10\n",
      "\n",
      " Si yield in msr^-1: \n",
      "\n",
      "16.945822830999674 \t 2.2816741793507336e-09\n",
      "22.571704693672693 \t 2.2085273299876034e-09\n",
      "28.178297820593805 \t 2.368837211438446e-09\n",
      "33.76101890119579 \t 2.216202057405329e-09\n",
      "39.31544490803795 \t 2.8121974214783314e-09\n",
      "44.837345881362985 \t 2.0670466138117097e-09\n",
      "50.3227177404472 \t 2.630503572243267e-09\n",
      "55.76781484705748 \t 3.2000739260510307e-09\n",
      "61.169181948986726 \t 3.117686900460052e-09\n",
      "65.4566724254198 \t 3.2036571071483294e-09\n"
     ]
    },
    {
     "data": {
      "image/png": "[encoded data removed]",
      "text/plain": [
       "<Figure size 684x468 with 1 Axes>"
      ]
     },
     "metadata": {
      "needs_background": "light"
     },
     "output_type": "display_data"
    }
   ],
   "source": [
    "\n",
    "Yield_es=3.2*10**(-6)*df_es['Area']/df_es['(BCI*LTR)_Summed']*frame_corr_es\n",
    "Yield_es_si=7.57*10**(-7)*df_es_si['Area']/df_es_si['(BCI*LTR)_Summed']*frame_corr_si\n",
    "avg_Yield_es_si=weighted_average(Yield_es_si,df_es_si['(BCI*LTR)_Summed'])\n",
    "\n",
    "print('ES yield in msr^-1: \\n')\n",
    "layout(Angle_CM,Yield_es)\n",
    "print('\\n','Si yield in msr^-1: \\n')\n",
    "layout(Angle_CM,Yield_es_si)\n",
    "\n",
    "makefigure('Si Detector Yield for ES','Angle_CM','Yield')\n",
    "plt.scatter(Angle_CM,Yield_es_si,label='Si yield')\n",
    "# plt.axhline(y=np.average(Yield_es_si), color='orange', linestyle='-',label='Average')\n",
    "plt.axhline(y=avg_Yield_es_si, color='r', linestyle='-',label='Average over BCI')\n",
    "plt.legend(fontsize=15)\n",
    "plt.show()"
   ]
  },
  {
   "cell_type": "code",
   "execution_count": 9,
   "id": "7675b821",
   "metadata": {},
   "outputs": [
    {
     "data": {
      "text/plain": [
       "0.20290541812381452"
      ]
     },
     "execution_count": 9,
     "metadata": {},
     "output_type": "execute_result"
    }
   ],
   "source": [
    "np.sqrt(np.sum(((Yield_es_si-avg_Yield_es_si)/avg_Yield_es_si)**2)/(len(Yield_es_si)-1))\n",
    "np.sqrt(0.176552**2+0.1**2)"
   ]
  },
  {
   "cell_type": "code",
   "execution_count": 10,
   "id": "bcb4c8a0",
   "metadata": {},
   "outputs": [
    {
     "data": {
      "text/plain": [
       "0.2270022026324855"
      ]
     },
     "execution_count": 10,
     "metadata": {},
     "output_type": "execute_result"
    }
   ],
   "source": [
    "np.sqrt(0.177**2+0.101**2+0.10**2)"
   ]
  },
  {
   "cell_type": "markdown",
   "id": "83107d0a",
   "metadata": {},
   "source": [
    "### Correct ES yield from Si detector data"
   ]
  },
  {
   "cell_type": "markdown",
   "id": "83f6aec6",
   "metadata": {},
   "source": [
    "Next we would like to normalize the ES yield with the monitor detector yield according to eqn.(6.15) on page 136 in Caleb's thesis:\n",
    "\n",
    "$$\\frac{d Y}{d \\Omega}\\left(\\theta_{i}\\right)=\\left[\\frac{d Y}{d \\Omega}_{F P}\\left(\\theta_{i}\\right) / \\frac{d Y}{d \\Omega}_{\\text {Si}}\\right]$$\n",
    "\n",
    "The reasoning behind this is desctibed on page 131, sect 6.8 in Caleb's thesis."
   ]
  },
  {
   "cell_type": "code",
   "execution_count": 11,
   "id": "92e18708",
   "metadata": {},
   "outputs": [
    {
     "name": "stdout",
     "output_type": "stream",
     "text": [
      "Normalized Yield: \n",
      "16.945822830999674 \t 228.87204588736242\n",
      "22.571704693672693 \t 29.681401833406458\n",
      "28.178297820593805 \t 8.14570089772316\n",
      "33.76101890119579 \t 4.891989655280576\n",
      "39.31544490803795 \t 4.273912449196541\n",
      "44.837345881362985 \t 1.2326655461082046\n",
      "50.3227177404472 \t 0.6580310459165478\n",
      "55.76781484705748 \t 0.569964065426835\n",
      "61.169181948986726 \t 0.23648300734622751\n",
      "65.4566724254198 \t 0.055840185792974215\n"
     ]
    },
    {
     "data": {
      "image/png": "[encoded data removed]",
      "text/plain": [
       "<Figure size 684x468 with 1 Axes>"
      ]
     },
     "metadata": {
      "needs_background": "light"
     },
     "output_type": "display_data"
    }
   ],
   "source": [
    "Yield_norm=Yield_es/Yield_es_si\n",
    "print('Normalized Yield: ')\n",
    "layout(Angle_CM,Yield_norm)\n",
    "makefigure('Normalized Yield','Angle_CM','Yield')\n",
    "plt.scatter(Angle_CM,Yield_norm,label='Normalized yield')\n",
    "plt.legend(fontsize=15)\n",
    "plt.yscale('log')\n",
    "plt.show()"
   ]
  },
  {
   "cell_type": "markdown",
   "id": "fb8c93f7",
   "metadata": {},
   "source": [
    "### Cross section"
   ]
  },
  {
   "cell_type": "markdown",
   "id": "e61a6ff1",
   "metadata": {},
   "source": [
    "We can't get the cross section since we already divided the yield from si detector."
   ]
  },
  {
   "cell_type": "markdown",
   "id": "07ddec04",
   "metadata": {},
   "source": [
    "### Correction for Rutherfor cross section"
   ]
  },
  {
   "cell_type": "markdown",
   "id": "043c05b8",
   "metadata": {},
   "source": [
    "The next thing is to further normalize the cross section with Rutherford cross section. Use the formula in 'Rutherford scattering' page in Wikipedia:\n",
    "$$\\frac{d \\sigma}{d \\Omega}=\\left(\\frac{Z_{1} Z_{2} \\alpha(\\hbar c)}{4 E_{\\mathrm{K}} \\sin ^{2} \\frac{\\Theta}{2}}\\right)^{2}$$"
   ]
  },
  {
   "cell_type": "code",
   "execution_count": 12,
   "id": "9aae9a9b",
   "metadata": {},
   "outputs": [
    {
     "name": "stdout",
     "output_type": "stream",
     "text": [
      "16.945822830999674 \t 0.07605338725776775\n",
      "22.571704693672693 \t 0.030697649740435776\n",
      "28.178297820593805 \t 0.020167692494713663\n",
      "33.76101890119579 \t 0.02452191849908222\n",
      "39.31544490803795 \t 0.03858992200555799\n",
      "44.837345881362985 \t 0.01838488265955239\n",
      "50.3227177404472 \t 0.015160534178205511\n",
      "55.76781484705748 \t 0.01922517963127992\n",
      "61.169181948986726 \t 0.011174911201760448\n",
      "65.4566724254198 \t 0.003363986494542829\n"
     ]
    },
    {
     "data": {
      "image/png": "[encoded data removed]",
      "text/plain": [
       "<Figure size 684x468 with 1 Axes>"
      ]
     },
     "metadata": {
      "needs_background": "light"
     },
     "output_type": "display_data"
    }
   ],
   "source": [
    "CrossSection_Rutherford=(2*11*(1/137)*197/4/21/np.sin(Angle_CM*np.pi/180/2)**2)**2*10 # 1 mb = 0.1 fm^2\n",
    "Yield_norm=Yield_norm/CrossSection_Rutherford\n",
    "layout(Angle_CM,Yield_norm)\n",
    "makefigure('Normalized Elastic Scattering Yield','Angle_CM','Yield')\n",
    "plt.scatter(Angle_CM,Yield_norm,label='Normalized ES Yield')\n",
    "plt.legend(fontsize=15)\n",
    "plt.yscale('log')\n",
    "from num2tex import num2tex\n",
    "ylabels=[]\n",
    "for i in [5e-4,1e-3,2e-3,5e-3,1e-2,2e-2,5e-2,1e-1,2e-1,5e-1]:\n",
    "    if (i<0.1 and i>0.001):\n",
    "        ylabels.append(i)\n",
    "plt.yticks(ylabels,['$'+'{:.1e}'.format(num2tex(i))+'$'  for i in ylabels],fontsize=20)\n",
    "plt.show()"
   ]
  },
  {
   "cell_type": "markdown",
   "id": "24fc6b7e",
   "metadata": {},
   "source": [
    "## Run fresco for DWBA calculations"
   ]
  },
  {
   "cell_type": "code",
   "execution_count": 13,
   "id": "c5ae2fd1",
   "metadata": {},
   "outputs": [
    {
     "name": "stdout",
     "output_type": "stream",
     "text": [
      "fresco</home/kaixin/Documents/23NaHe3d_Analysis//FrescoInputFiles/23Na3Hed-es-11390.in> /dev/null\n"
     ]
    }
   ],
   "source": [
    "os.chdir(path_fresco)\n",
    "fresco_input = path_fresco+'/FrescoInputFiles/23Na3Hed-es-11390.in'\n",
    "#elastic_data_path = path_fresco_data+'/23Na-3He-3He copy.data'\n",
    "#transfer_data_path = path_fresco_data+'23Na-3He-d-'+level+'.txt'\n",
    "filerun(fresco_input)"
   ]
  },
  {
   "cell_type": "markdown",
   "id": "a13332d3",
   "metadata": {},
   "source": [
    "## Include uncertainties"
   ]
  },
  {
   "cell_type": "markdown",
   "id": "2e794b53",
   "metadata": {},
   "source": [
    "The uncertaities are simply given by: $\\sigma_{Y}=\\sqrt{\\sigma_{ES}^{2}+\\sigma_{si}^{2}}$. Here I calculate the percentage instead of going through the normalizing process again."
   ]
  },
  {
   "cell_type": "code",
   "execution_count": 14,
   "id": "1cf58e75",
   "metadata": {},
   "outputs": [],
   "source": [
    "Yield_uncertainty=np.sqrt((df_es['+/-.1']/df_es['Area'])**2+(df_es_si['+/-.1']/df_es_si['Area'])**2)"
   ]
  },
  {
   "cell_type": "markdown",
   "id": "4dc4d97e",
   "metadata": {},
   "source": [
    "## Read fresco result and plot with scaled experiment data."
   ]
  },
  {
   "cell_type": "code",
   "execution_count": 15,
   "id": "05e1d631",
   "metadata": {},
   "outputs": [
    {
     "ename": "AttributeError",
     "evalue": "'format_data' object has no attribute 'erry'",
     "output_type": "error",
     "traceback": [
      "\u001b[0;31m---------------------------------------------------------------------------\u001b[0m",
      "\u001b[0;31mAttributeError\u001b[0m                            Traceback (most recent call last)",
      "Input \u001b[0;32mIn [15]\u001b[0m, in \u001b[0;36m<cell line: 7>\u001b[0;34m()\u001b[0m\n\u001b[1;32m      5\u001b[0m fres\u001b[38;5;241m=\u001b[39mMinimizations\u001b[38;5;241m.\u001b[39mformat_data(np\u001b[38;5;241m.\u001b[39marray(theta_es),np\u001b[38;5;241m.\u001b[39marray(sigma_es))\n\u001b[1;32m      6\u001b[0m exp\u001b[38;5;241m=\u001b[39mMinimizations\u001b[38;5;241m.\u001b[39mformat_data(np\u001b[38;5;241m.\u001b[39marray(Angle_CM),np\u001b[38;5;241m.\u001b[39marray(Yield_norm))\n\u001b[0;32m----> 7\u001b[0m scale\u001b[38;5;241m=\u001b[39m\u001b[43mMinimizations\u001b[49m\u001b[38;5;241;43m.\u001b[39;49m\u001b[43mScaleMinimize\u001b[49m\u001b[43m(\u001b[49m\u001b[43mexp\u001b[49m\u001b[43m,\u001b[49m\u001b[43mfres\u001b[49m\u001b[43m)\u001b[49m\n\u001b[1;32m      8\u001b[0m plt\u001b[38;5;241m.\u001b[39merrorbar(Angle_CM, Yield_norm\u001b[38;5;241m*\u001b[39mscale, Yield_norm\u001b[38;5;241m*\u001b[39mYield_uncertainty\u001b[38;5;241m*\u001b[39mscale, fmt\u001b[38;5;241m=\u001b[39m\u001b[38;5;124m'\u001b[39m\u001b[38;5;124mo\u001b[39m\u001b[38;5;124m'\u001b[39m,color\u001b[38;5;241m=\u001b[39m\u001b[38;5;124m'\u001b[39m\u001b[38;5;124mred\u001b[39m\u001b[38;5;124m'\u001b[39m,label\u001b[38;5;241m=\u001b[39m\u001b[38;5;124m'\u001b[39m\u001b[38;5;124mexperiment-ES\u001b[39m\u001b[38;5;124m'\u001b[39m)\n\u001b[1;32m      9\u001b[0m plt\u001b[38;5;241m.\u001b[39myscale(\u001b[38;5;124m'\u001b[39m\u001b[38;5;124mlog\u001b[39m\u001b[38;5;124m'\u001b[39m)\n",
      "File \u001b[0;32m~/Documents/23NaHe3d_Analysis/Scripts/KaixinSpecTools/Minimizations.py:13\u001b[0m, in \u001b[0;36mScaleMinimize\u001b[0;34m(exp, fresco, init)\u001b[0m\n\u001b[1;32m     11\u001b[0m \u001b[38;5;28;01mdef\u001b[39;00m \u001b[38;5;21mScaleMinimize\u001b[39m(exp,fresco,init\u001b[38;5;241m=\u001b[39m\u001b[38;5;241m1\u001b[39m): \u001b[38;5;66;03m# Rescale exp data to fresco scale. \u001b[39;00m\n\u001b[1;32m     12\u001b[0m     exp_sigma\u001b[38;5;241m=\u001b[39mexp\u001b[38;5;241m.\u001b[39msigma\u001b[38;5;241m.\u001b[39mtolist()\n\u001b[0;32m---> 13\u001b[0m     exp_err\u001b[38;5;241m=\u001b[39m\u001b[43mexp\u001b[49m\u001b[38;5;241;43m.\u001b[39;49m\u001b[43merry\u001b[49m\u001b[38;5;241m.\u001b[39mtolist()\n\u001b[1;32m     14\u001b[0m     exp_theta_b\u001b[38;5;241m=\u001b[39m[\u001b[38;5;28mint\u001b[39m(np\u001b[38;5;241m.\u001b[39mfloor(i)) \u001b[38;5;28;01mfor\u001b[39;00m i \u001b[38;5;129;01min\u001b[39;00m exp\u001b[38;5;241m.\u001b[39mtheta]\n\u001b[1;32m     15\u001b[0m     exp_theta_u\u001b[38;5;241m=\u001b[39m[\u001b[38;5;28mint\u001b[39m(np\u001b[38;5;241m.\u001b[39mceil(i)) \u001b[38;5;28;01mfor\u001b[39;00m i \u001b[38;5;129;01min\u001b[39;00m exp\u001b[38;5;241m.\u001b[39mtheta]\n",
      "\u001b[0;31mAttributeError\u001b[0m: 'format_data' object has no attribute 'erry'"
     ]
    },
    {
     "data": {
      "image/png": "[encoded data removed]",
      "text/plain": [
       "<Figure size 684x468 with 1 Axes>"
      ]
     },
     "metadata": {
      "needs_background": "light"
     },
     "output_type": "display_data"
    }
   ],
   "source": [
    "\n",
    "[theta_es, sigma_es] = read_cross('./fort.201')\n",
    "spline_es = interpolate.UnivariateSpline(theta_es,sigma_es,s=0)\n",
    "makefigure('23Na(3He,d) Elastic Scattering Cross Section','Angle_CM','Sigma (arb.units)')\n",
    "plt.plot(theta_es, spline_es(theta_es), label='fresco-ES', lw=1.5)\n",
    "fres=Minimizations.format_data(np.array(theta_es),np.array(sigma_es))\n",
    "exp=Minimizations.format_data(np.array(Angle_CM),np.array(Yield_norm))\n",
    "scale=Minimizations.ScaleMinimize(exp,fres)\n",
    "plt.errorbar(Angle_CM, Yield_norm*scale, Yield_norm*Yield_uncertainty*scale, fmt='o',color='red',label='experiment-ES')\n",
    "plt.yscale('log')\n",
    "plt.legend(fontsize=15)\n",
    "plt.tight_layout()"
   ]
  },
  {
   "cell_type": "markdown",
   "id": "66957a0d",
   "metadata": {},
   "source": [
    "## Save yield data for MCMC calculations"
   ]
  },
  {
   "cell_type": "code",
   "execution_count": null,
   "id": "3182ab6c",
   "metadata": {},
   "outputs": [],
   "source": [
    "# ratio of transfer yield to si detector yield, we know it's proportional to the cross section.\n",
    "d = {'Theta(CM)': Angle_CM, 'Sigma_Ratio': Yield_norm, 'uncertainty':Yield_norm*Yield_uncertainty}\n",
    "df = pd.DataFrame(data=d)\n",
    "df.to_csv(path_fresco_data+'/23Na-3He-ES.data',sep='\\t',index=False)\n",
    "\n",
    "# d = {'Theta(CM)': Angle_CM, 'Sigma_Ratio': Yield_norm*scale, 'uncertainty':Yield_norm*Yield_uncertainty*scale}\n",
    "# df = pd.DataFrame(data=d)\n",
    "# df.to_csv(path_fresco_data+'/23Na-3He-ES-normed.data',sep='\\t',index=False)"
   ]
  },
  {
   "cell_type": "code",
   "execution_count": null,
   "id": "4a3dec24",
   "metadata": {},
   "outputs": [],
   "source": []
  },
  {
   "cell_type": "code",
   "execution_count": null,
   "id": "7b50b9a5",
   "metadata": {},
   "outputs": [],
   "source": [
    "Yield_norm"
   ]
  },
  {
   "cell_type": "code",
   "execution_count": null,
   "id": "892e3aea",
   "metadata": {},
   "outputs": [],
   "source": [
    "\"\"\"Copied from pfunk\"\"\"\n",
    "class Angles():\n",
    "    def __init__(self, theta, sigma):\n",
    "        self.theta = np.asarray(theta, dtype='float64')\n",
    "        self.sigma = np.asarray(sigma, dtype='float64')\n",
    "class LineObject(Angles):\n",
    "    def __init__(self, theta, sigma):\n",
    "        Angles.__init__(self, theta, sigma)\n",
    "class DataObject(Angles):\n",
    "    def __init__(self, theta, sigma, erry):\n",
    "        Angles.__init__(self, theta, sigma)\n",
    "        self.erry = np.asarray(erry)\n",
    "def read_cross(filename):\n",
    "    cross = pd.read_csv(filename, sep='\\s+', skiprows=10, header=None)\n",
    "    theta = cross[cross.columns[0]].tolist()[:-1]\n",
    "    sigma = cross[cross.columns[1]].tolist()[:-1]\n",
    "    graphline = LineObject(theta, sigma)\n",
    "    return graphline\n",
    "def filerun(filepath):\n",
    "    command = 'fresco' + '<' + filepath + '> /dev/null'\n",
    "    os.system(command)\n",
    "def read_data(filename, delim=None):\n",
    "    if delim:\n",
    "        data = pd.read_csv(filename, sep=delim)\n",
    "    else:\n",
    "        data = pd.read_csv(filename, sep='\\s+')\n",
    "    theta = data[data.columns[0]].tolist()\n",
    "    sigma = data[data.columns[1]].tolist()\n",
    "    try:\n",
    "        erry = data[data.columns[2]]\n",
    "        erry[erry == 0.0] = 1.e-6\n",
    "        erry = erry.tolist()\n",
    "    except IndexError:\n",
    "        erry = None\n",
    "    graphline = DataObject(theta, sigma, erry)\n",
    "    return graphline\n",
    "elastic_data_path = path_fresco+'/FrescoInputData/23Na-3He-ES.data'\n",
    "expES=read_data(elastic_data_path)\n",
    "plt.errorbar(expES.theta, expES.sigma, expES.erry, label='ES-Kaixin',fmt='o', color='r')\n",
    "elastic_data_path = path_fresco+'/FrescoInputData/23Na-3He-ES-caleb.data'\n",
    "expES2=read_data(elastic_data_path)\n",
    "plt.errorbar(expES2.theta, expES2.sigma, expES2.erry, label='ES-caleb',fmt='o', color='b')\n",
    "plt.yscale('log')\n",
    "plt.title('Comparison of our ES data')\n",
    "plt.legend(fontsize=15)\n",
    "print('difference=',expES.sigma/expES2.sigma-1)\n",
    "print('average: ',weighted_average(expES.sigma/expES2.sigma-1,df_es['(BCI*LTR)_Summed']))\n",
    "plt.show()\n",
    "plt.scatter(expES.theta,expES.sigma/expES2.sigma-1)\n",
    "plt.title('percent error')\n",
    "plt.axhline(y=np.sqrt(np.sum(expES.sigma/expES2.sigma-1)**2)/len(expES.sigma), color='r', linestyle='-',label='Root mean square')\n",
    "plt.legend(fontsize=15)"
   ]
  },
  {
   "cell_type": "code",
   "execution_count": null,
   "id": "d1a12ed9",
   "metadata": {},
   "outputs": [],
   "source": []
  },
  {
   "cell_type": "code",
   "execution_count": null,
   "id": "82fcd8f2",
   "metadata": {},
   "outputs": [],
   "source": []
  },
  {
   "cell_type": "code",
   "execution_count": null,
   "id": "06ae373c",
   "metadata": {},
   "outputs": [],
   "source": []
  }
 ],
 "metadata": {
  "kernelspec": {
   "display_name": "Python 3 (ipykernel)",
   "language": "python",
   "name": "python3"
  },
  "language_info": {
   "codemirror_mode": {
    "name": "ipython",
    "version": 3
   },
   "file_extension": ".py",
   "mimetype": "text/x-python",
   "name": "python",
   "nbconvert_exporter": "python",
   "pygments_lexer": "ipython3",
   "version": "3.9.12"
  }
 },
 "nbformat": 4,
 "nbformat_minor": 5
}
